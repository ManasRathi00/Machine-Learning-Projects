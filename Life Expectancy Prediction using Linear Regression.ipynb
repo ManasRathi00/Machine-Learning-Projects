{
 "cells": [
  {
   "cell_type": "markdown",
   "metadata": {
    "id": "URgibpgWGT8M"
   },
   "source": [
    "**Import the required libraries**"
   ]
  },
  {
   "cell_type": "code",
   "execution_count": 5,
   "metadata": {
    "id": "xtl3HwF1GT8N"
   },
   "outputs": [],
   "source": [
    "import pandas as pd\n",
    "import numpy as np\n",
    "import statsmodels.api as sm\n",
    "import warnings\n",
    "warnings.filterwarnings(\"ignore\")\n",
    "\n",
    "import statsmodels\n",
    "import statsmodels.api as sm\n",
    "import statsmodels.stats.api as sms\n",
    "import statsmodels.formula.api as smf\n",
    "from statsmodels.tools.eval_measures import rmse\n",
    "from statsmodels.compat import lzip\n",
    "from statsmodels.stats.outliers_influence import variance_inflation_factor\n",
    "from statsmodels.stats.diagnostic import linear_rainbow\n",
    "import statsmodels.tsa.api as smt\n",
    "from statsmodels.graphics.gofplots import qqplot\n",
    "from statsmodels.stats.stattools import durbin_watson\n",
    "from sklearn.model_selection import train_test_split\n",
    "\n",
    "\n",
    "# 'SciPy' is used to perform scientific computations\n",
    "from scipy import stats\n",
    "from scipy.stats import shapiro\n",
    "\n",
    "# 'metrics' from sklearn is used for evaluating the model performance\n",
    "from sklearn.metrics import mean_absolute_error\n",
    "from sklearn.metrics import mean_squared_error"
   ]
  },
  {
   "cell_type": "markdown",
   "metadata": {
    "id": "NCMH7Vq7GT8Q"
   },
   "source": [
    "#### Load the first dataset and check the first five observations\n",
    "\n",
    "Load the csv file and set the first column as index"
   ]
  },
  {
   "cell_type": "code",
   "execution_count": 6,
   "metadata": {
    "id": "v49wF7S6GT8R"
   },
   "outputs": [
    {
     "data": {
      "text/html": [
       "<div>\n",
       "<style scoped>\n",
       "    .dataframe tbody tr th:only-of-type {\n",
       "        vertical-align: middle;\n",
       "    }\n",
       "\n",
       "    .dataframe tbody tr th {\n",
       "        vertical-align: top;\n",
       "    }\n",
       "\n",
       "    .dataframe thead th {\n",
       "        text-align: right;\n",
       "    }\n",
       "</style>\n",
       "<table border=\"1\" class=\"dataframe\">\n",
       "  <thead>\n",
       "    <tr style=\"text-align: right;\">\n",
       "      <th></th>\n",
       "      <th>Country</th>\n",
       "      <th>Status</th>\n",
       "      <th>Adult_Mortality</th>\n",
       "      <th>Infant_Deaths</th>\n",
       "      <th>Hepatitis</th>\n",
       "      <th>Measles</th>\n",
       "      <th>BMI</th>\n",
       "      <th>Underfive_Deaths</th>\n",
       "      <th>Polio</th>\n",
       "      <th>Diphtheria</th>\n",
       "      <th>HIV</th>\n",
       "      <th>GDP</th>\n",
       "      <th>Population</th>\n",
       "      <th>Malnourished10_19</th>\n",
       "      <th>Malnourished5_9</th>\n",
       "      <th>Income_Index</th>\n",
       "      <th>Schooling</th>\n",
       "      <th>Expected</th>\n",
       "    </tr>\n",
       "  </thead>\n",
       "  <tbody>\n",
       "    <tr>\n",
       "      <th>0</th>\n",
       "      <td>Afghanistan</td>\n",
       "      <td>Developing</td>\n",
       "      <td>263</td>\n",
       "      <td>62</td>\n",
       "      <td>65</td>\n",
       "      <td>1154</td>\n",
       "      <td>19.1</td>\n",
       "      <td>83</td>\n",
       "      <td>6</td>\n",
       "      <td>65</td>\n",
       "      <td>0.1</td>\n",
       "      <td>584.259210</td>\n",
       "      <td>33736494</td>\n",
       "      <td>17.2</td>\n",
       "      <td>17.3</td>\n",
       "      <td>0.479</td>\n",
       "      <td>10.1</td>\n",
       "      <td>65.0</td>\n",
       "    </tr>\n",
       "    <tr>\n",
       "      <th>1</th>\n",
       "      <td>Albania</td>\n",
       "      <td>Developing</td>\n",
       "      <td>8</td>\n",
       "      <td>0</td>\n",
       "      <td>98</td>\n",
       "      <td>0</td>\n",
       "      <td>57.2</td>\n",
       "      <td>1</td>\n",
       "      <td>98</td>\n",
       "      <td>98</td>\n",
       "      <td>0.1</td>\n",
       "      <td>4575.763787</td>\n",
       "      <td>288914</td>\n",
       "      <td>1.2</td>\n",
       "      <td>1.3</td>\n",
       "      <td>0.761</td>\n",
       "      <td>14.2</td>\n",
       "      <td>77.5</td>\n",
       "    </tr>\n",
       "    <tr>\n",
       "      <th>2</th>\n",
       "      <td>Algeria</td>\n",
       "      <td>Developing</td>\n",
       "      <td>19</td>\n",
       "      <td>21</td>\n",
       "      <td>95</td>\n",
       "      <td>63</td>\n",
       "      <td>59.5</td>\n",
       "      <td>24</td>\n",
       "      <td>95</td>\n",
       "      <td>95</td>\n",
       "      <td>0.1</td>\n",
       "      <td>4132.762920</td>\n",
       "      <td>39871528</td>\n",
       "      <td>6.0</td>\n",
       "      <td>5.8</td>\n",
       "      <td>0.743</td>\n",
       "      <td>14.4</td>\n",
       "      <td>75.6</td>\n",
       "    </tr>\n",
       "    <tr>\n",
       "      <th>3</th>\n",
       "      <td>Angola</td>\n",
       "      <td>Developing</td>\n",
       "      <td>335</td>\n",
       "      <td>66</td>\n",
       "      <td>64</td>\n",
       "      <td>118</td>\n",
       "      <td>23.3</td>\n",
       "      <td>98</td>\n",
       "      <td>7</td>\n",
       "      <td>64</td>\n",
       "      <td>1.9</td>\n",
       "      <td>3695.793748</td>\n",
       "      <td>2785935</td>\n",
       "      <td>8.3</td>\n",
       "      <td>8.2</td>\n",
       "      <td>0.531</td>\n",
       "      <td>11.4</td>\n",
       "      <td>52.4</td>\n",
       "    </tr>\n",
       "    <tr>\n",
       "      <th>4</th>\n",
       "      <td>Argentina</td>\n",
       "      <td>Developing</td>\n",
       "      <td>116</td>\n",
       "      <td>8</td>\n",
       "      <td>94</td>\n",
       "      <td>0</td>\n",
       "      <td>62.8</td>\n",
       "      <td>9</td>\n",
       "      <td>93</td>\n",
       "      <td>94</td>\n",
       "      <td>0.1</td>\n",
       "      <td>13467.123600</td>\n",
       "      <td>43417765</td>\n",
       "      <td>1.0</td>\n",
       "      <td>0.9</td>\n",
       "      <td>0.826</td>\n",
       "      <td>17.3</td>\n",
       "      <td>76.3</td>\n",
       "    </tr>\n",
       "    <tr>\n",
       "      <th>...</th>\n",
       "      <td>...</td>\n",
       "      <td>...</td>\n",
       "      <td>...</td>\n",
       "      <td>...</td>\n",
       "      <td>...</td>\n",
       "      <td>...</td>\n",
       "      <td>...</td>\n",
       "      <td>...</td>\n",
       "      <td>...</td>\n",
       "      <td>...</td>\n",
       "      <td>...</td>\n",
       "      <td>...</td>\n",
       "      <td>...</td>\n",
       "      <td>...</td>\n",
       "      <td>...</td>\n",
       "      <td>...</td>\n",
       "      <td>...</td>\n",
       "      <td>...</td>\n",
       "    </tr>\n",
       "    <tr>\n",
       "      <th>119</th>\n",
       "      <td>Venezuela</td>\n",
       "      <td>Developing</td>\n",
       "      <td>37</td>\n",
       "      <td>24</td>\n",
       "      <td>95</td>\n",
       "      <td>129</td>\n",
       "      <td>15.4</td>\n",
       "      <td>38</td>\n",
       "      <td>95</td>\n",
       "      <td>95</td>\n",
       "      <td>7.1</td>\n",
       "      <td>287.931877</td>\n",
       "      <td>8991735</td>\n",
       "      <td>6.8</td>\n",
       "      <td>7.0</td>\n",
       "      <td>0.388</td>\n",
       "      <td>8.8</td>\n",
       "      <td>55.3</td>\n",
       "    </tr>\n",
       "    <tr>\n",
       "      <th>120</th>\n",
       "      <td>Viet Nam</td>\n",
       "      <td>Developing</td>\n",
       "      <td>397</td>\n",
       "      <td>26</td>\n",
       "      <td>89</td>\n",
       "      <td>386</td>\n",
       "      <td>14.9</td>\n",
       "      <td>42</td>\n",
       "      <td>89</td>\n",
       "      <td>89</td>\n",
       "      <td>7.7</td>\n",
       "      <td>236.911438</td>\n",
       "      <td>8818438</td>\n",
       "      <td>6.9</td>\n",
       "      <td>7.1</td>\n",
       "      <td>0.371</td>\n",
       "      <td>8.2</td>\n",
       "      <td>53.4</td>\n",
       "    </tr>\n",
       "    <tr>\n",
       "      <th>121</th>\n",
       "      <td>Yemen</td>\n",
       "      <td>Developing</td>\n",
       "      <td>48</td>\n",
       "      <td>29</td>\n",
       "      <td>96</td>\n",
       "      <td>1064</td>\n",
       "      <td>14.5</td>\n",
       "      <td>46</td>\n",
       "      <td>96</td>\n",
       "      <td>96</td>\n",
       "      <td>8.1</td>\n",
       "      <td>212.661949</td>\n",
       "      <td>868346</td>\n",
       "      <td>7.0</td>\n",
       "      <td>7.3</td>\n",
       "      <td>0.359</td>\n",
       "      <td>7.6</td>\n",
       "      <td>52.0</td>\n",
       "    </tr>\n",
       "    <tr>\n",
       "      <th>122</th>\n",
       "      <td>Zambia</td>\n",
       "      <td>Developing</td>\n",
       "      <td>415</td>\n",
       "      <td>31</td>\n",
       "      <td>88</td>\n",
       "      <td>2738</td>\n",
       "      <td>14.1</td>\n",
       "      <td>50</td>\n",
       "      <td>85</td>\n",
       "      <td>88</td>\n",
       "      <td>8.0</td>\n",
       "      <td>196.597780</td>\n",
       "      <td>853625</td>\n",
       "      <td>7.2</td>\n",
       "      <td>7.4</td>\n",
       "      <td>0.343</td>\n",
       "      <td>7.2</td>\n",
       "      <td>57.0</td>\n",
       "    </tr>\n",
       "    <tr>\n",
       "      <th>123</th>\n",
       "      <td>Zimbabwe</td>\n",
       "      <td>Developing</td>\n",
       "      <td>438</td>\n",
       "      <td>33</td>\n",
       "      <td>85</td>\n",
       "      <td>896</td>\n",
       "      <td>13.7</td>\n",
       "      <td>54</td>\n",
       "      <td>76</td>\n",
       "      <td>77</td>\n",
       "      <td>8.1</td>\n",
       "      <td>21.569654</td>\n",
       "      <td>832946</td>\n",
       "      <td>7.4</td>\n",
       "      <td>7.5</td>\n",
       "      <td>0.332</td>\n",
       "      <td>7.1</td>\n",
       "      <td>48.6</td>\n",
       "    </tr>\n",
       "  </tbody>\n",
       "</table>\n",
       "<p>124 rows × 18 columns</p>\n",
       "</div>"
      ],
      "text/plain": [
       "         Country      Status  Adult_Mortality  Infant_Deaths  Hepatitis   \\\n",
       "0    Afghanistan  Developing              263             62          65   \n",
       "1        Albania  Developing                8              0          98   \n",
       "2        Algeria  Developing               19             21          95   \n",
       "3         Angola  Developing              335             66          64   \n",
       "4      Argentina  Developing              116              8          94   \n",
       "..           ...         ...              ...            ...         ...   \n",
       "119    Venezuela  Developing               37             24          95   \n",
       "120     Viet Nam  Developing              397             26          89   \n",
       "121        Yemen  Developing               48             29          96   \n",
       "122       Zambia  Developing              415             31          88   \n",
       "123     Zimbabwe  Developing              438             33          85   \n",
       "\n",
       "     Measles    BMI   Underfive_Deaths   Polio  Diphtheria    HIV  \\\n",
       "0        1154   19.1                 83      6           65   0.1   \n",
       "1           0   57.2                  1     98           98   0.1   \n",
       "2          63   59.5                 24     95           95   0.1   \n",
       "3         118   23.3                 98      7           64   1.9   \n",
       "4           0   62.8                  9     93           94   0.1   \n",
       "..        ...    ...                ...    ...          ...   ...   \n",
       "119       129   15.4                 38     95           95   7.1   \n",
       "120       386   14.9                 42     89           89   7.7   \n",
       "121      1064   14.5                 46     96           96   8.1   \n",
       "122      2738   14.1                 50     85           88   8.0   \n",
       "123       896   13.7                 54     76           77   8.1   \n",
       "\n",
       "              GDP  Population  Malnourished10_19   Malnourished5_9  \\\n",
       "0      584.259210    33736494                17.2             17.3   \n",
       "1     4575.763787      288914                 1.2              1.3   \n",
       "2     4132.762920    39871528                 6.0              5.8   \n",
       "3     3695.793748     2785935                 8.3              8.2   \n",
       "4    13467.123600    43417765                 1.0              0.9   \n",
       "..            ...         ...                 ...              ...   \n",
       "119    287.931877     8991735                 6.8              7.0   \n",
       "120    236.911438     8818438                 6.9              7.1   \n",
       "121    212.661949      868346                 7.0              7.3   \n",
       "122    196.597780      853625                 7.2              7.4   \n",
       "123     21.569654      832946                 7.4              7.5   \n",
       "\n",
       "     Income_Index  Schooling  Expected  \n",
       "0           0.479       10.1      65.0  \n",
       "1           0.761       14.2      77.5  \n",
       "2           0.743       14.4      75.6  \n",
       "3           0.531       11.4      52.4  \n",
       "4           0.826       17.3      76.3  \n",
       "..            ...        ...       ...  \n",
       "119         0.388        8.8      55.3  \n",
       "120         0.371        8.2      53.4  \n",
       "121         0.359        7.6      52.0  \n",
       "122         0.343        7.2      57.0  \n",
       "123         0.332        7.1      48.6  \n",
       "\n",
       "[124 rows x 18 columns]"
      ]
     },
     "execution_count": 6,
     "metadata": {},
     "output_type": "execute_result"
    }
   ],
   "source": [
    "data=pd.read_csv(\"C:\\\\Users\\\\Ajit Pandiyan\\\\OneDrive\\\\Desktop\\\\Data Sci GL\\\\Supervised_Learning\\\\week 1\\\\inclass\\\\SLR_In_Class_Lab_Exercise_(Week_1)_Questions\\\\Life_Expectancy.csv\")\n",
    "data"
   ]
  },
  {
   "cell_type": "markdown",
   "metadata": {
    "id": "_-PzGAQbGT8W"
   },
   "source": [
    "<a id=\"Bivariate\"> </a>\n",
    "## 1. Bivariate Regression"
   ]
  },
  {
   "cell_type": "markdown",
   "metadata": {
    "id": "MmEYEa-DGT8X"
   },
   "source": [
    "## We shall use the life expectancy dataset"
   ]
  },
  {
   "cell_type": "code",
   "execution_count": 7,
   "metadata": {
    "id": "3hp6DBLcGT8Z"
   },
   "outputs": [
    {
     "name": "stdout",
     "output_type": "stream",
     "text": [
      "<class 'pandas.core.frame.DataFrame'>\n",
      "RangeIndex: 124 entries, 0 to 123\n",
      "Data columns (total 18 columns):\n",
      " #   Column              Non-Null Count  Dtype  \n",
      "---  ------              --------------  -----  \n",
      " 0   Country             124 non-null    object \n",
      " 1   Status              124 non-null    object \n",
      " 2   Adult_Mortality     124 non-null    int64  \n",
      " 3   Infant_Deaths       124 non-null    int64  \n",
      " 4   Hepatitis           124 non-null    int64  \n",
      " 5   Measles             124 non-null    int64  \n",
      " 6    BMI                124 non-null    float64\n",
      " 7   Underfive_Deaths    124 non-null    int64  \n",
      " 8   Polio               124 non-null    int64  \n",
      " 9   Diphtheria          124 non-null    int64  \n",
      " 10   HIV                124 non-null    float64\n",
      " 11  GDP                 124 non-null    float64\n",
      " 12  Population          124 non-null    int64  \n",
      " 13  Malnourished10_19   124 non-null    float64\n",
      " 14  Malnourished5_9     124 non-null    float64\n",
      " 15  Income_Index        124 non-null    float64\n",
      " 16  Schooling           124 non-null    float64\n",
      " 17  Expected            124 non-null    float64\n",
      "dtypes: float64(8), int64(8), object(2)\n",
      "memory usage: 17.6+ KB\n"
     ]
    }
   ],
   "source": [
    "import seaborn as sns\n",
    "import matplotlib.pyplot as plt\n",
    "\n",
    "data.info()"
   ]
  },
  {
   "cell_type": "code",
   "execution_count": 8,
   "metadata": {},
   "outputs": [
    {
     "data": {
      "image/png": "[encoded data removed]",
      "text/plain": [
       "<Figure size 432x288 with 1 Axes>"
      ]
     },
     "metadata": {
      "needs_background": "light"
     },
     "output_type": "display_data"
    },
    {
     "ename": "NameError",
     "evalue": "name 'life' is not defined",
     "output_type": "error",
     "traceback": [
      "\u001b[1;31m---------------------------------------------------------------------------\u001b[0m",
      "\u001b[1;31mNameError\u001b[0m                                 Traceback (most recent call last)",
      "Input \u001b[1;32mIn [8]\u001b[0m, in \u001b[0;36m<cell line: 5>\u001b[1;34m()\u001b[0m\n\u001b[0;32m      2\u001b[0m plt\u001b[38;5;241m.\u001b[39mfigure\u001b[38;5;241m.\u001b[39mfigsize\u001b[38;5;241m=\u001b[39m[\u001b[38;5;241m20\u001b[39m,\u001b[38;5;241m10\u001b[39m]\n\u001b[0;32m      3\u001b[0m plt\u001b[38;5;241m.\u001b[39mshow()\n\u001b[1;32m----> 5\u001b[0m \u001b[43mlife\u001b[49m[[\u001b[38;5;124m\"\u001b[39m\u001b[38;5;124mAdult_Mortality\u001b[39m\u001b[38;5;124m\"\u001b[39m,\u001b[38;5;124m\"\u001b[39m\u001b[38;5;124mExpected\u001b[39m\u001b[38;5;124m\"\u001b[39m]]\u001b[38;5;241m.\u001b[39mcorr()\n",
      "\u001b[1;31mNameError\u001b[0m: name 'life' is not defined"
     ]
    }
   ],
   "source": [
    "sns.scatterplot(data=data, x=\"Adult_Mortality\", y=\"Expected\")\n",
    "plt.figure.figsize=[20,10]\n",
    "plt.show()\n",
    "\n",
    "life[[\"Adult_Mortality\",\"Expected\"]].corr()"
   ]
  },
  {
   "cell_type": "code",
   "execution_count": null,
   "metadata": {
    "id": "amV7PHtlGT8b"
   },
   "outputs": [],
   "source": [
    "data.head()\n",
    "\n",
    "\n",
    "x=data[\"Income_Index\"]\n",
    "\n",
    "x=sm.add_constant(x)\n",
    "\n",
    " \n",
    "y=data.Expected\n",
    "\n",
    "\n",
    "\n",
    "SLR_model=sm.OLS(y,x).fit()\n",
    "\n",
    "predictions= SLR_model.predict(x)\n",
    "\n",
    "\n",
    "\n",
    "residual=data.Expected - predictions\n",
    "\n",
    "residual=np.abs(residual)\n",
    "\n",
    "\n",
    "sum_resid=np.sum(residual)\n",
    "\n",
    "\n",
    "\n",
    "output_residual=\"{:.13f}\".format(np.sum(residual))\n",
    "\n",
    "print(\"Sum of all residuals\", output_residual)\n",
    "\n",
    "\n",
    "\n",
    "\n",
    "sample_size=len(data.index)\n",
    "\n",
    "expected_value= sum_resid/sample_size\n",
    "\n",
    "\n",
    "\n",
    "output = \"{:.13f}\".format(expected_value)\n",
    "\n",
    "##print expected residual value\n",
    "print(\"Expected residual value\", output)\n"
   ]
  },
  {
   "cell_type": "markdown",
   "metadata": {
    "id": "6EdKTMb_GT8c"
   },
   "source": [
    "<a id=\"MLR\"> </a>\n",
    "## 2. Multiple Linear Regression(MLR)"
   ]
  },
  {
   "cell_type": "code",
   "execution_count": 9,
   "metadata": {
    "id": "WmDtZAm-GT8d"
   },
   "outputs": [
    {
     "name": "stdout",
     "output_type": "stream",
     "text": [
      "                            OLS Regression Results                            \n",
      "==============================================================================\n",
      "Dep. Variable:               Expected   R-squared:                       0.138\n",
      "Model:                            OLS   Adj. R-squared:                  0.116\n",
      "Method:                 Least Squares   F-statistic:                     6.395\n",
      "Date:                Wed, 05 Oct 2022   Prob (F-statistic):           0.000468\n",
      "Time:                        20:29:16   Log-Likelihood:                -431.15\n",
      "No. Observations:                 124   AIC:                             870.3\n",
      "Df Residuals:                     120   BIC:                             881.6\n",
      "Df Model:                           3                                         \n",
      "Covariance Type:            nonrobust                                         \n",
      "===============================================================================\n",
      "                  coef    std err          t      P>|t|      [0.025      0.975]\n",
      "-------------------------------------------------------------------------------\n",
      "const          57.9881      3.524     16.453      0.000      51.010      64.966\n",
      "Polio           0.0910      0.043      2.099      0.038       0.005       0.177\n",
      "Diphtheria      0.1613      0.082      1.969      0.051      -0.001       0.323\n",
      "Hepatitis      -0.1037      0.068     -1.528      0.129      -0.238       0.031\n",
      "==============================================================================\n",
      "Omnibus:                        4.513   Durbin-Watson:                   1.000\n",
      "Prob(Omnibus):                  0.105   Jarque-Bera (JB):                4.279\n",
      "Skew:                          -0.396   Prob(JB):                        0.118\n",
      "Kurtosis:                       2.550   Cond. No.                         755.\n",
      "==============================================================================\n",
      "\n",
      "Notes:\n",
      "[1] Standard Errors assume that the covariance matrix of the errors is correctly specified.\n"
     ]
    }
   ],
   "source": [
    "data.head()\n",
    "\n",
    "x=data[[\"Polio\",\"Diphtheria \",\"Hepatitis \"]]\n",
    "y=data[\"Expected\"]\n",
    "\n",
    "x=sm.add_constant(x)\n",
    "\n",
    "MLR_model=sm.OLS(y,x).fit()  \n",
    "print(MLR_model.summary())"
   ]
  },
  {
   "cell_type": "code",
   "execution_count": 19,
   "metadata": {
    "id": "AW9ewHrnGT8e"
   },
   "outputs": [
    {
     "name": "stdout",
     "output_type": "stream",
     "text": [
      "Developing    105\n",
      "Developed      19\n",
      "Name: Status, dtype: int64\n"
     ]
    }
   ],
   "source": [
    "data=pd.read_csv(\"C:\\\\Users\\\\Ajit Pandiyan\\\\OneDrive\\\\Desktop\\\\Data Sci GL\\\\Supervised_Learning\\\\week 1\\\\inclass\\\\SLR_In_Class_Lab_Exercise_(Week_1)_Questions\\\\Life_Expectancy.csv\")\n",
    "print(data[\"Status\"].value_counts())\n",
    "\n"
   ]
  },
  {
   "cell_type": "code",
   "execution_count": 20,
   "metadata": {},
   "outputs": [],
   "source": [
    "life2 = data.copy()\n",
    "\n",
    "def dev(x):\n",
    "    if x==\"Developed\":\n",
    "        return(1)\n",
    "    else :\n",
    "        return(0)"
   ]
  },
  {
   "cell_type": "markdown",
   "metadata": {},
   "source": [
    "life2=life\n",
    "life2[\"status\"]=life2[\"Status\"].apply(dev)\n",
    "life2.Status.value_counts()"
   ]
  },
  {
   "cell_type": "code",
   "execution_count": 21,
   "metadata": {},
   "outputs": [],
   "source": [
    "life2[\"Status\"]= life2[\"Status\"].apply(dev)"
   ]
  },
  {
   "cell_type": "code",
   "execution_count": 22,
   "metadata": {},
   "outputs": [
    {
     "data": {
      "text/plain": [
       "0    105\n",
       "1     19\n",
       "Name: Status, dtype: int64"
      ]
     },
     "execution_count": 22,
     "metadata": {},
     "output_type": "execute_result"
    }
   ],
   "source": [
    "life2[\"Status\"].value_counts()"
   ]
  },
  {
   "cell_type": "code",
   "execution_count": 23,
   "metadata": {},
   "outputs": [
    {
     "name": "stdout",
     "output_type": "stream",
     "text": [
      "                            OLS Regression Results                            \n",
      "==============================================================================\n",
      "Dep. Variable:               Expected   R-squared:                       0.321\n",
      "Model:                            OLS   Adj. R-squared:                  0.298\n",
      "Method:                 Least Squares   F-statistic:                     14.06\n",
      "Date:                Wed, 05 Oct 2022   Prob (F-statistic):           2.00e-09\n",
      "Time:                        20:35:01   Log-Likelihood:                -416.35\n",
      "No. Observations:                 124   AIC:                             842.7\n",
      "Df Residuals:                     119   BIC:                             856.8\n",
      "Df Model:                           4                                         \n",
      "Covariance Type:            nonrobust                                         \n",
      "===============================================================================\n",
      "                  coef    std err          t      P>|t|      [0.025      0.975]\n",
      "-------------------------------------------------------------------------------\n",
      "const          59.2054      3.148     18.805      0.000      52.971      65.439\n",
      "Polio           0.0771      0.039      1.993      0.049       0.000       0.154\n",
      "Diphtheria      0.0456      0.076      0.602      0.548      -0.104       0.196\n",
      "Hepatitis      -0.0035      0.063     -0.056      0.955      -0.128       0.121\n",
      "Status         10.6036      1.872      5.664      0.000       6.897      14.310\n",
      "==============================================================================\n",
      "Omnibus:                        2.973   Durbin-Watson:                   1.211\n",
      "Prob(Omnibus):                  0.226   Jarque-Bera (JB):                2.635\n",
      "Skew:                          -0.355   Prob(JB):                        0.268\n",
      "Kurtosis:                       3.077   Cond. No.                         758.\n",
      "==============================================================================\n",
      "\n",
      "Notes:\n",
      "[1] Standard Errors assume that the covariance matrix of the errors is correctly specified.\n"
     ]
    }
   ],
   "source": [
    "x=life2[[\"Polio\",\"Diphtheria \",\"Hepatitis \",\"Status\"]]\n",
    "y=life2[\"Expected\"]\n",
    "\n",
    "import statsmodels.api as sm\n",
    "x=sm.add_constant(x)\n",
    "\n",
    "model=sm.OLS(y,x).fit()  \n",
    "print(model.summary())\n",
    "\n"
   ]
  },
  {
   "cell_type": "markdown",
   "metadata": {
    "id": "ixy0KTBKGT8f"
   },
   "source": [
    "<a id=\"ins\"> </a>\n",
    "## 3. Inferences about slope"
   ]
  },
  {
   "cell_type": "code",
   "execution_count": 24,
   "metadata": {},
   "outputs": [
    {
     "name": "stdout",
     "output_type": "stream",
     "text": [
      "                            OLS Regression Results                            \n",
      "==============================================================================\n",
      "Dep. Variable:               Expected   R-squared:                       0.848\n",
      "Model:                            OLS   Adj. R-squared:                  0.826\n",
      "Method:                 Least Squares   F-statistic:                     37.43\n",
      "Date:                Wed, 05 Oct 2022   Prob (F-statistic):           1.94e-36\n",
      "Time:                        20:35:06   Log-Likelihood:                -323.38\n",
      "No. Observations:                 124   AIC:                             680.8\n",
      "Df Residuals:                     107   BIC:                             728.7\n",
      "Df Model:                          16                                         \n",
      "Covariance Type:            nonrobust                                         \n",
      "======================================================================================\n",
      "                         coef    std err          t      P>|t|      [0.025      0.975]\n",
      "--------------------------------------------------------------------------------------\n",
      "const                 58.0318      3.284     17.673      0.000      51.522      64.541\n",
      "Status                 2.0360      1.168      1.743      0.084      -0.280       4.352\n",
      "Adult_Mortality       -0.0231      0.004     -5.685      0.000      -0.031      -0.015\n",
      "Infant_Deaths          0.0556      0.037      1.507      0.135      -0.018       0.129\n",
      "Hepatitis              0.0656      0.032      2.056      0.042       0.002       0.129\n",
      "Measles             -5.93e-05   6.09e-05     -0.974      0.332      -0.000    6.14e-05\n",
      " BMI                  -0.0266      0.023     -1.179      0.241      -0.071       0.018\n",
      "Underfive_Deaths      -0.0389      0.027     -1.439      0.153      -0.093       0.015\n",
      "Polio                 -0.0091      0.022     -0.417      0.677      -0.053       0.034\n",
      "Diphtheria            -0.0345      0.040     -0.868      0.387      -0.113       0.044\n",
      " HIV                  -1.0385      0.268     -3.881      0.000      -1.569      -0.508\n",
      "GDP                 5.021e-05   3.48e-05      1.445      0.151   -1.87e-05       0.000\n",
      "Population         -1.845e-08    8.6e-09     -2.146      0.034   -3.55e-08   -1.41e-09\n",
      "Malnourished10_19     -0.4850      0.300     -1.616      0.109      -1.080       0.110\n",
      "Malnourished5_9        0.2983      0.283      1.053      0.294      -0.263       0.860\n",
      "Income_Index          18.6518      6.313      2.955      0.004       6.138      31.166\n",
      "Schooling              0.3599      0.346      1.040      0.301      -0.326       1.046\n",
      "==============================================================================\n",
      "Omnibus:                        6.529   Durbin-Watson:                   1.754\n",
      "Prob(Omnibus):                  0.038   Jarque-Bera (JB):               10.518\n",
      "Skew:                           0.122   Prob(JB):                      0.00520\n",
      "Kurtosis:                       4.406   Cond. No.                     9.14e+08\n",
      "==============================================================================\n",
      "\n",
      "Notes:\n",
      "[1] Standard Errors assume that the covariance matrix of the errors is correctly specified.\n",
      "[2] The condition number is large, 9.14e+08. This might indicate that there are\n",
      "strong multicollinearity or other numerical problems.\n"
     ]
    },
    {
     "data": {
      "text/plain": [
       "['const',\n",
       " 'Adult_Mortality',\n",
       " 'Hepatitis ',\n",
       " ' HIV',\n",
       " 'Population',\n",
       " 'Income_Index']"
      ]
     },
     "execution_count": 24,
     "metadata": {},
     "output_type": "execute_result"
    }
   ],
   "source": [
    "#b.drop([\"Country\"], axis=1,inplace= True)\n",
    "a=data[\"Expected\"]\n",
    "b=life2.drop([\"Country\",\"Expected\"], axis=1)\n",
    "\n",
    "import statsmodels.api as sm\n",
    "b=sm.add_constant(b)\n",
    "\n",
    "\n",
    "model1=sm.OLS(a,b).fit()\n",
    "print(model1.summary())\n",
    "\n",
    "\n",
    "\n",
    "MLR_pvalues = pd.DataFrame(model1.pvalues, columns = [\"P-Value\"])\n",
    "\n",
    "\n",
    "significant_var = MLR_pvalues[MLR_pvalues['P-Value'] < 0.05]\n",
    "\n",
    "\n",
    "signi_var = significant_var.index.to_list()\n",
    "\n",
    "# print the list of significant variables\n",
    "signi_var"
   ]
  },
  {
   "cell_type": "code",
   "execution_count": 25,
   "metadata": {
    "id": "bkRLRHs9GT8h"
   },
   "outputs": [],
   "source": [
    "b.head()\n",
    "c=b[\"Income_Index\"]\n",
    "\n",
    "\n",
    "from sklearn.preprocessing import MinMaxScaler\n",
    "c=sm.add_constant(c)\n",
    "\n",
    "scaler = MinMaxScaler()\n",
    "\n",
    "scaled=scaler.fit_transform(c)"
   ]
  },
  {
   "cell_type": "code",
   "execution_count": 26,
   "metadata": {},
   "outputs": [
    {
     "name": "stdout",
     "output_type": "stream",
     "text": [
      "                            OLS Regression Results                            \n",
      "==============================================================================\n",
      "Dep. Variable:               Expected   R-squared:                       0.711\n",
      "Model:                            OLS   Adj. R-squared:                  0.709\n",
      "Method:                 Least Squares   F-statistic:                     300.0\n",
      "Date:                Wed, 05 Oct 2022   Prob (F-statistic):           1.13e-34\n",
      "Time:                        20:35:07   Log-Likelihood:                -363.40\n",
      "No. Observations:                 124   AIC:                             730.8\n",
      "Df Residuals:                     122   BIC:                             736.4\n",
      "Df Model:                           1                                         \n",
      "Covariance Type:            nonrobust                                         \n",
      "================================================================================\n",
      "                   coef    std err          t      P>|t|      [0.025      0.975]\n",
      "--------------------------------------------------------------------------------\n",
      "const           41.9191      1.741     24.081      0.000      38.473      45.365\n",
      "Income_Index    42.4243      2.449     17.322      0.000      37.576      47.273\n",
      "==============================================================================\n",
      "Omnibus:                       11.870   Durbin-Watson:                   1.355\n",
      "Prob(Omnibus):                  0.003   Jarque-Bera (JB):               26.475\n",
      "Skew:                           0.280   Prob(JB):                     1.78e-06\n",
      "Kurtosis:                       5.193   Cond. No.                         8.87\n",
      "==============================================================================\n",
      "\n",
      "Notes:\n",
      "[1] Standard Errors assume that the covariance matrix of the errors is correctly specified.\n"
     ]
    }
   ],
   "source": [
    "import statsmodels.api as sm\n",
    "b=sm.add_constant(b)\n",
    "\n",
    "\n",
    "model1=sm.OLS(a,c).fit()\n",
    "print(model1.summary())"
   ]
  },
  {
   "cell_type": "code",
   "execution_count": 27,
   "metadata": {},
   "outputs": [],
   "source": [
    "## Total variation observed in the values of "
   ]
  },
  {
   "cell_type": "code",
   "execution_count": 28,
   "metadata": {},
   "outputs": [],
   "source": [
    "pred=model1.predict(c)"
   ]
  },
  {
   "cell_type": "code",
   "execution_count": 29,
   "metadata": {},
   "outputs": [
    {
     "name": "stdout",
     "output_type": "stream",
     "text": [
      "SSR: 6270.220680416865\n"
     ]
    }
   ],
   "source": [
    "ssr=np.sum((pred-a.mean())**2)\n",
    "print('SSR:',ssr)"
   ]
  },
  {
   "cell_type": "code",
   "execution_count": 30,
   "metadata": {},
   "outputs": [
    {
     "name": "stdout",
     "output_type": "stream",
     "text": [
      "SSE: 2549.5848034540973\n"
     ]
    }
   ],
   "source": [
    "sse=np.sum((a-pred)**2)\n",
    "print(\"SSE:\",sse)"
   ]
  },
  {
   "cell_type": "code",
   "execution_count": 31,
   "metadata": {},
   "outputs": [
    {
     "name": "stdout",
     "output_type": "stream",
     "text": [
      "SST: 8819.805483870963\n"
     ]
    }
   ],
   "source": [
    "print(\"SST:\",(sse+ssr))"
   ]
  },
  {
   "cell_type": "code",
   "execution_count": 32,
   "metadata": {
    "id": "CuWU4wx3GT8i"
   },
   "outputs": [
    {
     "name": "stdout",
     "output_type": "stream",
     "text": [
      "                      0           1\n",
      "Income_Index  97.009477  102.472029\n"
     ]
    }
   ],
   "source": [
    "#independent variables\n",
    "L=data.iloc[:,[15]]\n",
    "\n",
    "#dependent variables.\n",
    "y=data.Expected\n",
    "\n",
    "#building a model with intercept\n",
    "SLR_model=sm.OLS(y,L).fit()\n",
    "\n",
    "print(SLR_model.conf_int())"
   ]
  },
  {
   "cell_type": "markdown",
   "metadata": {
    "id": "B8OmzXM1GT8i"
   },
   "source": [
    "<a id=\"ML_eval\"> </a>\n",
    "## 4. Model Evaluation"
   ]
  },
  {
   "cell_type": "code",
   "execution_count": 33,
   "metadata": {
    "id": "znUwZhZvGT8j"
   },
   "outputs": [
    {
     "name": "stdout",
     "output_type": "stream",
     "text": [
      "                            OLS Regression Results                            \n",
      "==============================================================================\n",
      "Dep. Variable:               Expected   R-squared:                       0.530\n",
      "Model:                            OLS   Adj. R-squared:                  0.519\n",
      "Method:                 Least Squares   F-statistic:                     45.18\n",
      "Date:                Wed, 05 Oct 2022   Prob (F-statistic):           1.29e-19\n",
      "Time:                        20:35:13   Log-Likelihood:                -393.48\n",
      "No. Observations:                 124   AIC:                             795.0\n",
      "Df Residuals:                     120   BIC:                             806.2\n",
      "Df Model:                           3                                         \n",
      "Covariance Type:            nonrobust                                         \n",
      "=====================================================================================\n",
      "                        coef    std err          t      P>|t|      [0.025      0.975]\n",
      "-------------------------------------------------------------------------------------\n",
      "const                80.3623      1.004     80.060      0.000      78.375      82.350\n",
      "Adult_Mortality      -0.0548      0.005     -9.996      0.000      -0.066      -0.044\n",
      "Infant_Deaths         0.0905      0.049      1.844      0.068      -0.007       0.188\n",
      "Underfive_Deaths     -0.0775      0.038     -2.033      0.044      -0.153      -0.002\n",
      "==============================================================================\n",
      "Omnibus:                       54.244   Durbin-Watson:                   1.530\n",
      "Prob(Omnibus):                  0.000   Jarque-Bera (JB):              142.185\n",
      "Skew:                          -1.734   Prob(JB):                     1.33e-31\n",
      "Kurtosis:                       6.937   Cond. No.                         392.\n",
      "==============================================================================\n",
      "\n",
      "Notes:\n",
      "[1] Standard Errors assume that the covariance matrix of the errors is correctly specified.\n"
     ]
    }
   ],
   "source": [
    "b.columns\n",
    "\n",
    "x= b[[\"Adult_Mortality\",\"Infant_Deaths\",\"Underfive_Deaths \"]]\n",
    "\n",
    "x=sm.add_constant(x)\n",
    "\n",
    "a ##Previously saved column for expected.\n",
    "\n",
    "MLR_Model = sm.OLS(a,x).fit()\n",
    "\n",
    "print(MLR_Model.summary())"
   ]
  },
  {
   "cell_type": "code",
   "execution_count": 34,
   "metadata": {},
   "outputs": [
    {
     "name": "stdout",
     "output_type": "stream",
     "text": [
      "                            OLS Regression Results                            \n",
      "==============================================================================\n",
      "Dep. Variable:               Expected   R-squared:                       0.531\n",
      "Model:                            OLS   Adj. R-squared:                  0.515\n",
      "Method:                 Least Squares   F-statistic:                     33.68\n",
      "Date:                Wed, 05 Oct 2022   Prob (F-statistic):           8.93e-19\n",
      "Time:                        20:35:13   Log-Likelihood:                -393.41\n",
      "No. Observations:                 124   AIC:                             796.8\n",
      "Df Residuals:                     119   BIC:                             810.9\n",
      "Df Model:                           4                                         \n",
      "Covariance Type:            nonrobust                                         \n",
      "=====================================================================================\n",
      "                        coef    std err          t      P>|t|      [0.025      0.975]\n",
      "-------------------------------------------------------------------------------------\n",
      "const                80.3071      1.019     78.813      0.000      78.289      82.325\n",
      "Adult_Mortality      -0.0550      0.006     -9.929      0.000      -0.066      -0.044\n",
      "Infant_Deaths         0.0886      0.050      1.788      0.076      -0.010       0.187\n",
      "Underfive_Deaths     -0.0760      0.038     -1.975      0.051      -0.152       0.000\n",
      "Population         4.736e-09   1.31e-08      0.361      0.718   -2.12e-08    3.07e-08\n",
      "==============================================================================\n",
      "Omnibus:                       54.418   Durbin-Watson:                   1.537\n",
      "Prob(Omnibus):                  0.000   Jarque-Bera (JB):              143.042\n",
      "Skew:                          -1.738   Prob(JB):                     8.69e-32\n",
      "Kurtosis:                       6.949   Cond. No.                     8.72e+07\n",
      "==============================================================================\n",
      "\n",
      "Notes:\n",
      "[1] Standard Errors assume that the covariance matrix of the errors is correctly specified.\n",
      "[2] The condition number is large, 8.72e+07. This might indicate that there are\n",
      "strong multicollinearity or other numerical problems.\n"
     ]
    }
   ],
   "source": [
    "b.columns\n",
    "\n",
    "x= b[[\"Adult_Mortality\",\"Infant_Deaths\",\"Underfive_Deaths \",\"Population\"]]\n",
    "\n",
    "x=sm.add_constant(x)\n",
    "\n",
    "a ##Previously saved column for expected.\n",
    "\n",
    "MLR_Model = sm.OLS(a,x).fit()\n",
    "\n",
    "print(MLR_Model.summary())"
   ]
  },
  {
   "cell_type": "code",
   "execution_count": 35,
   "metadata": {
    "id": "Yj6QQBFfGT8l",
    "scrolled": true
   },
   "outputs": [],
   "source": [
    "z=b.copy()\n",
    "\n",
    "from sklearn.preprocessing import MinMaxScaler\n",
    "\n",
    "z=sm.add_constant(z)\n",
    "\n",
    "scaler = MinMaxScaler()\n",
    "\n",
    "scaled=scaler.fit_transform(z)"
   ]
  },
  {
   "cell_type": "code",
   "execution_count": 36,
   "metadata": {},
   "outputs": [
    {
     "name": "stdout",
     "output_type": "stream",
     "text": [
      "                            OLS Regression Results                            \n",
      "==============================================================================\n",
      "Dep. Variable:               Expected   R-squared:                       0.848\n",
      "Model:                            OLS   Adj. R-squared:                  0.826\n",
      "Method:                 Least Squares   F-statistic:                     37.43\n",
      "Date:                Wed, 05 Oct 2022   Prob (F-statistic):           1.94e-36\n",
      "Time:                        20:35:15   Log-Likelihood:                -323.38\n",
      "No. Observations:                 124   AIC:                             680.8\n",
      "Df Residuals:                     107   BIC:                             728.7\n",
      "Df Model:                          16                                         \n",
      "Covariance Type:            nonrobust                                         \n",
      "======================================================================================\n",
      "                         coef    std err          t      P>|t|      [0.025      0.975]\n",
      "--------------------------------------------------------------------------------------\n",
      "const                 58.0318      3.284     17.673      0.000      51.522      64.541\n",
      "Status                 2.0360      1.168      1.743      0.084      -0.280       4.352\n",
      "Adult_Mortality       -0.0231      0.004     -5.685      0.000      -0.031      -0.015\n",
      "Infant_Deaths          0.0556      0.037      1.507      0.135      -0.018       0.129\n",
      "Hepatitis              0.0656      0.032      2.056      0.042       0.002       0.129\n",
      "Measles             -5.93e-05   6.09e-05     -0.974      0.332      -0.000    6.14e-05\n",
      " BMI                  -0.0266      0.023     -1.179      0.241      -0.071       0.018\n",
      "Underfive_Deaths      -0.0389      0.027     -1.439      0.153      -0.093       0.015\n",
      "Polio                 -0.0091      0.022     -0.417      0.677      -0.053       0.034\n",
      "Diphtheria            -0.0345      0.040     -0.868      0.387      -0.113       0.044\n",
      " HIV                  -1.0385      0.268     -3.881      0.000      -1.569      -0.508\n",
      "GDP                 5.021e-05   3.48e-05      1.445      0.151   -1.87e-05       0.000\n",
      "Population         -1.845e-08    8.6e-09     -2.146      0.034   -3.55e-08   -1.41e-09\n",
      "Malnourished10_19     -0.4850      0.300     -1.616      0.109      -1.080       0.110\n",
      "Malnourished5_9        0.2983      0.283      1.053      0.294      -0.263       0.860\n",
      "Income_Index          18.6518      6.313      2.955      0.004       6.138      31.166\n",
      "Schooling              0.3599      0.346      1.040      0.301      -0.326       1.046\n",
      "==============================================================================\n",
      "Omnibus:                        6.529   Durbin-Watson:                   1.754\n",
      "Prob(Omnibus):                  0.038   Jarque-Bera (JB):               10.518\n",
      "Skew:                           0.122   Prob(JB):                      0.00520\n",
      "Kurtosis:                       4.406   Cond. No.                     9.14e+08\n",
      "==============================================================================\n",
      "\n",
      "Notes:\n",
      "[1] Standard Errors assume that the covariance matrix of the errors is correctly specified.\n",
      "[2] The condition number is large, 9.14e+08. This might indicate that there are\n",
      "strong multicollinearity or other numerical problems.\n",
      "1.9430668554847794e-36\n"
     ]
    }
   ],
   "source": [
    "import statsmodels.api as sm\n",
    "z=sm.add_constant(z)\n",
    "\n",
    "mod=sm.OLS(a,z).fit()\n",
    "print(mod.summary())\n",
    "print(mod.f_pvalue)\n",
    "\n",
    "\n"
   ]
  },
  {
   "cell_type": "markdown",
   "metadata": {},
   "source": [
    "z.head()\n",
    "\n",
    "c=z[[\"Infant_Deaths\",\"Adult_Mortality\"]]\n",
    "\n",
    "import statsmodels.api as sm\n",
    "c=sm.add_constant(c)\n",
    "\n",
    "\n",
    "model1=sm.OLS(a,c).fit()\n",
    "print(model1.summary())\n",
    "print(model1.f_pvalue)"
   ]
  },
  {
   "cell_type": "markdown",
   "metadata": {},
   "source": [
    "c.head()\n",
    "## Scaling.\n",
    "\n",
    "from sklearn.preprocessing import MinMaxScaler\n",
    "\n",
    "scaler = MinMaxScaler()\n",
    "\n",
    "scaled=scaler.fit_transform(c)\n",
    "\n",
    "p=pd.DataFrame(scaled)\n"
   ]
  },
  {
   "cell_type": "markdown",
   "metadata": {},
   "source": [
    "p.head()\n",
    "#p.drop([0], axis=1,inplace=True)\n",
    "p.head()"
   ]
  },
  {
   "cell_type": "markdown",
   "metadata": {},
   "source": [
    "##model after scaling.\n",
    "\n",
    "import statsmodels.api as sm\n",
    "p=sm.add_constant(p)\n",
    "\n",
    "\n",
    "model1=sm.OLS(a,p).fit()\n",
    "print(model1.summary())\n",
    "\n",
    "\n",
    "## Here since, there is not much difference in the interdependibility of the independent variables,\n",
    "## So even after scaling the data, there is no change in the R square and adjusted R square value in the\n",
    "## obtained output."
   ]
  },
  {
   "cell_type": "markdown",
   "metadata": {
    "id": "l-U6cjSiGT8l"
   },
   "source": [
    "<a id=\"assum\"> </a>\n",
    "## 4. Assumptions of Linear Regression"
   ]
  },
  {
   "cell_type": "code",
   "execution_count": 37,
   "metadata": {
    "id": "PP48v3jTGT8m"
   },
   "outputs": [
    {
     "name": "stdout",
     "output_type": "stream",
     "text": [
      "                            OLS Regression Results                            \n",
      "==============================================================================\n",
      "Dep. Variable:               Expected   R-squared:                       0.848\n",
      "Model:                            OLS   Adj. R-squared:                  0.826\n",
      "Method:                 Least Squares   F-statistic:                     37.43\n",
      "Date:                Wed, 05 Oct 2022   Prob (F-statistic):           1.94e-36\n",
      "Time:                        20:35:18   Log-Likelihood:                -323.38\n",
      "No. Observations:                 124   AIC:                             680.8\n",
      "Df Residuals:                     107   BIC:                             728.7\n",
      "Df Model:                          16                                         \n",
      "Covariance Type:            nonrobust                                         \n",
      "======================================================================================\n",
      "                         coef    std err          t      P>|t|      [0.025      0.975]\n",
      "--------------------------------------------------------------------------------------\n",
      "const                 58.0318      3.284     17.673      0.000      51.522      64.541\n",
      "Status                 2.0360      1.168      1.743      0.084      -0.280       4.352\n",
      "Adult_Mortality       -0.0231      0.004     -5.685      0.000      -0.031      -0.015\n",
      "Infant_Deaths          0.0556      0.037      1.507      0.135      -0.018       0.129\n",
      "Hepatitis              0.0656      0.032      2.056      0.042       0.002       0.129\n",
      "Measles             -5.93e-05   6.09e-05     -0.974      0.332      -0.000    6.14e-05\n",
      " BMI                  -0.0266      0.023     -1.179      0.241      -0.071       0.018\n",
      "Underfive_Deaths      -0.0389      0.027     -1.439      0.153      -0.093       0.015\n",
      "Polio                 -0.0091      0.022     -0.417      0.677      -0.053       0.034\n",
      "Diphtheria            -0.0345      0.040     -0.868      0.387      -0.113       0.044\n",
      " HIV                  -1.0385      0.268     -3.881      0.000      -1.569      -0.508\n",
      "GDP                 5.021e-05   3.48e-05      1.445      0.151   -1.87e-05       0.000\n",
      "Population         -1.845e-08    8.6e-09     -2.146      0.034   -3.55e-08   -1.41e-09\n",
      "Malnourished10_19     -0.4850      0.300     -1.616      0.109      -1.080       0.110\n",
      "Malnourished5_9        0.2983      0.283      1.053      0.294      -0.263       0.860\n",
      "Income_Index          18.6518      6.313      2.955      0.004       6.138      31.166\n",
      "Schooling              0.3599      0.346      1.040      0.301      -0.326       1.046\n",
      "==============================================================================\n",
      "Omnibus:                        6.529   Durbin-Watson:                   1.754\n",
      "Prob(Omnibus):                  0.038   Jarque-Bera (JB):               10.518\n",
      "Skew:                           0.122   Prob(JB):                      0.00520\n",
      "Kurtosis:                       4.406   Cond. No.                     9.14e+08\n",
      "==============================================================================\n",
      "\n",
      "Notes:\n",
      "[1] Standard Errors assume that the covariance matrix of the errors is correctly specified.\n",
      "[2] The condition number is large, 9.14e+08. This might indicate that there are\n",
      "strong multicollinearity or other numerical problems.\n"
     ]
    }
   ],
   "source": [
    "print(mod.summary())\n",
    "\n"
   ]
  },
  {
   "cell_type": "code",
   "execution_count": 38,
   "metadata": {},
   "outputs": [
    {
     "name": "stdout",
     "output_type": "stream",
     "text": [
      "stat 0.9769425392150879\n",
      "p_value 0.03209252282977104\n"
     ]
    }
   ],
   "source": [
    "from scipy.stats import shapiro\n",
    "\n",
    "\n",
    "stat, p_value= shapiro(mod.resid)\n",
    "\n",
    "print(\"stat\", stat)\n",
    "print(\"p_value\", p_value)"
   ]
  },
  {
   "cell_type": "code",
   "execution_count": 39,
   "metadata": {},
   "outputs": [
    {
     "data": {
      "image/png": "[encoded data removed]",
      "text/plain": [
       "<Figure size 432x288 with 1 Axes>"
      ]
     },
     "metadata": {
      "needs_background": "light"
     },
     "output_type": "display_data"
    }
   ],
   "source": [
    "sns.distplot(mod.resid)\n",
    "plt.show()"
   ]
  },
  {
   "cell_type": "code",
   "execution_count": 40,
   "metadata": {
    "id": "Ng-8kwKgGT8n"
   },
   "outputs": [
    {
     "data": {
      "text/html": [
       "<table class=\"simpletable\">\n",
       "<caption>OLS Regression Results</caption>\n",
       "<tr>\n",
       "  <th>Dep. Variable:</th>        <td>Expected</td>     <th>  R-squared:         </th> <td>   0.853</td>\n",
       "</tr>\n",
       "<tr>\n",
       "  <th>Model:</th>                   <td>OLS</td>       <th>  Adj. R-squared:    </th> <td>   0.830</td>\n",
       "</tr>\n",
       "<tr>\n",
       "  <th>Method:</th>             <td>Least Squares</td>  <th>  F-statistic:       </th> <td>   36.30</td>\n",
       "</tr>\n",
       "<tr>\n",
       "  <th>Date:</th>             <td>Wed, 05 Oct 2022</td> <th>  Prob (F-statistic):</th> <td>2.14e-36</td>\n",
       "</tr>\n",
       "<tr>\n",
       "  <th>Time:</th>                 <td>20:35:22</td>     <th>  Log-Likelihood:    </th> <td> -321.30</td>\n",
       "</tr>\n",
       "<tr>\n",
       "  <th>No. Observations:</th>      <td>   124</td>      <th>  AIC:               </th> <td>   678.6</td>\n",
       "</tr>\n",
       "<tr>\n",
       "  <th>Df Residuals:</th>          <td>   106</td>      <th>  BIC:               </th> <td>   729.4</td>\n",
       "</tr>\n",
       "<tr>\n",
       "  <th>Df Model:</th>              <td>    17</td>      <th>                     </th>     <td> </td>   \n",
       "</tr>\n",
       "<tr>\n",
       "  <th>Covariance Type:</th>      <td>nonrobust</td>    <th>                     </th>     <td> </td>   \n",
       "</tr>\n",
       "</table>\n",
       "<table class=\"simpletable\">\n",
       "<tr>\n",
       "           <td></td>             <th>coef</th>     <th>std err</th>      <th>t</th>      <th>P>|t|</th>  <th>[0.025</th>    <th>0.975]</th>  \n",
       "</tr>\n",
       "<tr>\n",
       "  <th>const</th>              <td>   58.7216</td> <td>    3.265</td> <td>   17.988</td> <td> 0.000</td> <td>   52.249</td> <td>   65.194</td>\n",
       "</tr>\n",
       "<tr>\n",
       "  <th>Status</th>             <td>    3.8250</td> <td>    1.489</td> <td>    2.569</td> <td> 0.012</td> <td>    0.873</td> <td>    6.777</td>\n",
       "</tr>\n",
       "<tr>\n",
       "  <th>Adult_Mortality</th>    <td>   -0.0228</td> <td>    0.004</td> <td>   -5.680</td> <td> 0.000</td> <td>   -0.031</td> <td>   -0.015</td>\n",
       "</tr>\n",
       "<tr>\n",
       "  <th>Infant_Deaths</th>      <td>    0.0564</td> <td>    0.036</td> <td>    1.547</td> <td> 0.125</td> <td>   -0.016</td> <td>    0.129</td>\n",
       "</tr>\n",
       "<tr>\n",
       "  <th>Hepatitis </th>         <td>    0.0715</td> <td>    0.032</td> <td>    2.259</td> <td> 0.026</td> <td>    0.009</td> <td>    0.134</td>\n",
       "</tr>\n",
       "<tr>\n",
       "  <th>Measles </th>           <td>-5.287e-05</td> <td> 6.03e-05</td> <td>   -0.877</td> <td> 0.382</td> <td>   -0.000</td> <td> 6.66e-05</td>\n",
       "</tr>\n",
       "<tr>\n",
       "  <th> BMI </th>              <td>   -0.0291</td> <td>    0.022</td> <td>   -1.306</td> <td> 0.194</td> <td>   -0.073</td> <td>    0.015</td>\n",
       "</tr>\n",
       "<tr>\n",
       "  <th>Underfive_Deaths </th>  <td>   -0.0401</td> <td>    0.027</td> <td>   -1.497</td> <td> 0.137</td> <td>   -0.093</td> <td>    0.013</td>\n",
       "</tr>\n",
       "<tr>\n",
       "  <th>Polio</th>              <td>   -0.0056</td> <td>    0.022</td> <td>   -0.258</td> <td> 0.797</td> <td>   -0.049</td> <td>    0.037</td>\n",
       "</tr>\n",
       "<tr>\n",
       "  <th>Diphtheria </th>        <td>   -0.0446</td> <td>    0.040</td> <td>   -1.124</td> <td> 0.264</td> <td>   -0.123</td> <td>    0.034</td>\n",
       "</tr>\n",
       "<tr>\n",
       "  <th> HIV</th>               <td>   -1.0748</td> <td>    0.265</td> <td>   -4.054</td> <td> 0.000</td> <td>   -1.600</td> <td>   -0.549</td>\n",
       "</tr>\n",
       "<tr>\n",
       "  <th>GDP</th>                <td>    0.0001</td> <td> 5.08e-05</td> <td>    2.390</td> <td> 0.019</td> <td> 2.07e-05</td> <td>    0.000</td>\n",
       "</tr>\n",
       "<tr>\n",
       "  <th>Population</th>         <td>-1.612e-08</td> <td> 8.58e-09</td> <td>   -1.878</td> <td> 0.063</td> <td>-3.31e-08</td> <td> 8.96e-10</td>\n",
       "</tr>\n",
       "<tr>\n",
       "  <th>Malnourished10_19 </th> <td>   -0.4757</td> <td>    0.297</td> <td>   -1.604</td> <td> 0.112</td> <td>   -1.064</td> <td>    0.112</td>\n",
       "</tr>\n",
       "<tr>\n",
       "  <th>Malnourished5_9</th>    <td>    0.2995</td> <td>    0.280</td> <td>    1.071</td> <td> 0.287</td> <td>   -0.255</td> <td>    0.854</td>\n",
       "</tr>\n",
       "<tr>\n",
       "  <th>Income_Index</th>       <td>   15.9884</td> <td>    6.392</td> <td>    2.501</td> <td> 0.014</td> <td>    3.315</td> <td>   28.662</td>\n",
       "</tr>\n",
       "<tr>\n",
       "  <th>Schooling</th>          <td>    0.4188</td> <td>    0.343</td> <td>    1.220</td> <td> 0.225</td> <td>   -0.262</td> <td>    1.099</td>\n",
       "</tr>\n",
       "<tr>\n",
       "  <th>Interaction</th>        <td>   -0.0001</td> <td>  6.8e-05</td> <td>   -1.902</td> <td> 0.060</td> <td>   -0.000</td> <td>  5.5e-06</td>\n",
       "</tr>\n",
       "</table>\n",
       "<table class=\"simpletable\">\n",
       "<tr>\n",
       "  <th>Omnibus:</th>       <td> 4.411</td> <th>  Durbin-Watson:     </th> <td>   1.813</td>\n",
       "</tr>\n",
       "<tr>\n",
       "  <th>Prob(Omnibus):</th> <td> 0.110</td> <th>  Jarque-Bera (JB):  </th> <td>   5.490</td>\n",
       "</tr>\n",
       "<tr>\n",
       "  <th>Skew:</th>          <td> 0.109</td> <th>  Prob(JB):          </th> <td>  0.0642</td>\n",
       "</tr>\n",
       "<tr>\n",
       "  <th>Kurtosis:</th>      <td> 4.008</td> <th>  Cond. No.          </th> <td>9.38e+08</td>\n",
       "</tr>\n",
       "</table><br/><br/>Notes:<br/>[1] Standard Errors assume that the covariance matrix of the errors is correctly specified.<br/>[2] The condition number is large, 9.38e+08. This might indicate that there are<br/>strong multicollinearity or other numerical problems."
      ],
      "text/plain": [
       "<class 'statsmodels.iolib.summary.Summary'>\n",
       "\"\"\"\n",
       "                            OLS Regression Results                            \n",
       "==============================================================================\n",
       "Dep. Variable:               Expected   R-squared:                       0.853\n",
       "Model:                            OLS   Adj. R-squared:                  0.830\n",
       "Method:                 Least Squares   F-statistic:                     36.30\n",
       "Date:                Wed, 05 Oct 2022   Prob (F-statistic):           2.14e-36\n",
       "Time:                        20:35:22   Log-Likelihood:                -321.30\n",
       "No. Observations:                 124   AIC:                             678.6\n",
       "Df Residuals:                     106   BIC:                             729.4\n",
       "Df Model:                          17                                         \n",
       "Covariance Type:            nonrobust                                         \n",
       "======================================================================================\n",
       "                         coef    std err          t      P>|t|      [0.025      0.975]\n",
       "--------------------------------------------------------------------------------------\n",
       "const                 58.7216      3.265     17.988      0.000      52.249      65.194\n",
       "Status                 3.8250      1.489      2.569      0.012       0.873       6.777\n",
       "Adult_Mortality       -0.0228      0.004     -5.680      0.000      -0.031      -0.015\n",
       "Infant_Deaths          0.0564      0.036      1.547      0.125      -0.016       0.129\n",
       "Hepatitis              0.0715      0.032      2.259      0.026       0.009       0.134\n",
       "Measles            -5.287e-05   6.03e-05     -0.877      0.382      -0.000    6.66e-05\n",
       " BMI                  -0.0291      0.022     -1.306      0.194      -0.073       0.015\n",
       "Underfive_Deaths      -0.0401      0.027     -1.497      0.137      -0.093       0.013\n",
       "Polio                 -0.0056      0.022     -0.258      0.797      -0.049       0.037\n",
       "Diphtheria            -0.0446      0.040     -1.124      0.264      -0.123       0.034\n",
       " HIV                  -1.0748      0.265     -4.054      0.000      -1.600      -0.549\n",
       "GDP                    0.0001   5.08e-05      2.390      0.019    2.07e-05       0.000\n",
       "Population         -1.612e-08   8.58e-09     -1.878      0.063   -3.31e-08    8.96e-10\n",
       "Malnourished10_19     -0.4757      0.297     -1.604      0.112      -1.064       0.112\n",
       "Malnourished5_9        0.2995      0.280      1.071      0.287      -0.255       0.854\n",
       "Income_Index          15.9884      6.392      2.501      0.014       3.315      28.662\n",
       "Schooling              0.4188      0.343      1.220      0.225      -0.262       1.099\n",
       "Interaction           -0.0001    6.8e-05     -1.902      0.060      -0.000     5.5e-06\n",
       "==============================================================================\n",
       "Omnibus:                        4.411   Durbin-Watson:                   1.813\n",
       "Prob(Omnibus):                  0.110   Jarque-Bera (JB):                5.490\n",
       "Skew:                           0.109   Prob(JB):                       0.0642\n",
       "Kurtosis:                       4.008   Cond. No.                     9.38e+08\n",
       "==============================================================================\n",
       "\n",
       "Notes:\n",
       "[1] Standard Errors assume that the covariance matrix of the errors is correctly specified.\n",
       "[2] The condition number is large, 9.38e+08. This might indicate that there are\n",
       "strong multicollinearity or other numerical problems.\n",
       "\"\"\""
      ]
     },
     "execution_count": 40,
     "metadata": {},
     "output_type": "execute_result"
    }
   ],
   "source": [
    "z.head()\n",
    "\n",
    "z[\"Interaction\"]=z[\"GDP\"]*z[\"Status\"]\n",
    "\n",
    "MLR_mod_interaction= sm.OLS(a,z).fit()\n",
    "\n",
    "MLR_mod_interaction.summary()\n",
    "\n"
   ]
  },
  {
   "cell_type": "code",
   "execution_count": 41,
   "metadata": {
    "id": "jtaT9qB2GT8o"
   },
   "outputs": [
    {
     "name": "stdout",
     "output_type": "stream",
     "text": [
      "                            OLS Regression Results                            \n",
      "==============================================================================\n",
      "Dep. Variable:               Expected   R-squared:                       0.848\n",
      "Model:                            OLS   Adj. R-squared:                  0.826\n",
      "Method:                 Least Squares   F-statistic:                     37.43\n",
      "Date:                Wed, 05 Oct 2022   Prob (F-statistic):           1.94e-36\n",
      "Time:                        20:35:22   Log-Likelihood:                -323.38\n",
      "No. Observations:                 124   AIC:                             680.8\n",
      "Df Residuals:                     107   BIC:                             728.7\n",
      "Df Model:                          16                                         \n",
      "Covariance Type:            nonrobust                                         \n",
      "======================================================================================\n",
      "                         coef    std err          t      P>|t|      [0.025      0.975]\n",
      "--------------------------------------------------------------------------------------\n",
      "const                 58.0318      3.284     17.673      0.000      51.522      64.541\n",
      "Status                 2.0360      1.168      1.743      0.084      -0.280       4.352\n",
      "Adult_Mortality       -0.0231      0.004     -5.685      0.000      -0.031      -0.015\n",
      "Infant_Deaths          0.0556      0.037      1.507      0.135      -0.018       0.129\n",
      "Hepatitis              0.0656      0.032      2.056      0.042       0.002       0.129\n",
      "Measles             -5.93e-05   6.09e-05     -0.974      0.332      -0.000    6.14e-05\n",
      " BMI                  -0.0266      0.023     -1.179      0.241      -0.071       0.018\n",
      "Underfive_Deaths      -0.0389      0.027     -1.439      0.153      -0.093       0.015\n",
      "Polio                 -0.0091      0.022     -0.417      0.677      -0.053       0.034\n",
      "Diphtheria            -0.0345      0.040     -0.868      0.387      -0.113       0.044\n",
      " HIV                  -1.0385      0.268     -3.881      0.000      -1.569      -0.508\n",
      "GDP                 5.021e-05   3.48e-05      1.445      0.151   -1.87e-05       0.000\n",
      "Population         -1.845e-08    8.6e-09     -2.146      0.034   -3.55e-08   -1.41e-09\n",
      "Malnourished10_19     -0.4850      0.300     -1.616      0.109      -1.080       0.110\n",
      "Malnourished5_9        0.2983      0.283      1.053      0.294      -0.263       0.860\n",
      "Income_Index          18.6518      6.313      2.955      0.004       6.138      31.166\n",
      "Schooling              0.3599      0.346      1.040      0.301      -0.326       1.046\n",
      "==============================================================================\n",
      "Omnibus:                        6.529   Durbin-Watson:                   1.754\n",
      "Prob(Omnibus):                  0.038   Jarque-Bera (JB):               10.518\n",
      "Skew:                           0.122   Prob(JB):                      0.00520\n",
      "Kurtosis:                       4.406   Cond. No.                     9.14e+08\n",
      "==============================================================================\n",
      "\n",
      "Notes:\n",
      "[1] Standard Errors assume that the covariance matrix of the errors is correctly specified.\n",
      "[2] The condition number is large, 9.14e+08. This might indicate that there are\n",
      "strong multicollinearity or other numerical problems.\n"
     ]
    }
   ],
   "source": [
    "z=b.copy()\n",
    "\n",
    "from sklearn.preprocessing import MinMaxScaler\n",
    "\n",
    "z=sm.add_constant(z)\n",
    "\n",
    "scaler = MinMaxScaler()\n",
    "\n",
    "scaled=scaler.fit_transform(z)\n",
    "\n",
    "import statsmodels.api as sm\n",
    "z=sm.add_constant(z)\n",
    "\n",
    "mod=sm.OLS(a,z).fit()\n",
    "print(mod.summary())"
   ]
  },
  {
   "cell_type": "markdown",
   "metadata": {
    "id": "O3TOOMH7GT8o"
   },
   "source": [
    "### Hereon on we shall consider the FEV dataset.\n"
   ]
  },
  {
   "cell_type": "markdown",
   "metadata": {
    "id": "-cuOvjcHGT8p"
   },
   "source": [
    "### About the data set (Respiratory function data)\n",
    "\n",
    "Dataset consists of information about respiratory function in children and adolescents and factors that might impact the respiratory function. <br> Attribute information: \n",
    "\n",
    "**Age:** Age in years\n",
    "\n",
    "**Height:** Height in inches \n",
    "\n",
    "**Gender:** Gender value is 1 if male 0 if female\n",
    "\n",
    "**Smoke:** Whether the person is a smoker or non- smoker, the value is 1 if smoker and 0 otherwise\n",
    "\n",
    "**FEV:**  Forced Exhalation Volume (FEV), a measure of how much air somebody can forcibly exhale from their lung (Percentage)"
   ]
  },
  {
   "cell_type": "markdown",
   "metadata": {
    "id": "Qe2zwds0GT8p"
   },
   "source": [
    "#### Load the dataset and check the first five observations"
   ]
  },
  {
   "cell_type": "code",
   "execution_count": 43,
   "metadata": {
    "id": "Rd_zQlutGT8p"
   },
   "outputs": [
    {
     "data": {
      "text/html": [
       "<div>\n",
       "<style scoped>\n",
       "    .dataframe tbody tr th:only-of-type {\n",
       "        vertical-align: middle;\n",
       "    }\n",
       "\n",
       "    .dataframe tbody tr th {\n",
       "        vertical-align: top;\n",
       "    }\n",
       "\n",
       "    .dataframe thead th {\n",
       "        text-align: right;\n",
       "    }\n",
       "</style>\n",
       "<table border=\"1\" class=\"dataframe\">\n",
       "  <thead>\n",
       "    <tr style=\"text-align: right;\">\n",
       "      <th></th>\n",
       "      <th>Age</th>\n",
       "      <th>Height</th>\n",
       "      <th>Gender</th>\n",
       "      <th>Smoke</th>\n",
       "      <th>FEV</th>\n",
       "    </tr>\n",
       "  </thead>\n",
       "  <tbody>\n",
       "    <tr>\n",
       "      <th>0</th>\n",
       "      <td>9</td>\n",
       "      <td>57.0</td>\n",
       "      <td>0</td>\n",
       "      <td>0</td>\n",
       "      <td>1.708</td>\n",
       "    </tr>\n",
       "    <tr>\n",
       "      <th>1</th>\n",
       "      <td>8</td>\n",
       "      <td>67.5</td>\n",
       "      <td>0</td>\n",
       "      <td>0</td>\n",
       "      <td>1.724</td>\n",
       "    </tr>\n",
       "    <tr>\n",
       "      <th>2</th>\n",
       "      <td>7</td>\n",
       "      <td>54.5</td>\n",
       "      <td>0</td>\n",
       "      <td>0</td>\n",
       "      <td>1.720</td>\n",
       "    </tr>\n",
       "    <tr>\n",
       "      <th>3</th>\n",
       "      <td>9</td>\n",
       "      <td>53.0</td>\n",
       "      <td>1</td>\n",
       "      <td>0</td>\n",
       "      <td>1.558</td>\n",
       "    </tr>\n",
       "    <tr>\n",
       "      <th>4</th>\n",
       "      <td>9</td>\n",
       "      <td>57.0</td>\n",
       "      <td>1</td>\n",
       "      <td>0</td>\n",
       "      <td>1.895</td>\n",
       "    </tr>\n",
       "  </tbody>\n",
       "</table>\n",
       "</div>"
      ],
      "text/plain": [
       "   Age  Height  Gender  Smoke    FEV\n",
       "0    9    57.0       0      0  1.708\n",
       "1    8    67.5       0      0  1.724\n",
       "2    7    54.5       0      0  1.720\n",
       "3    9    53.0       1      0  1.558\n",
       "4    9    57.0       1      0  1.895"
      ]
     },
     "execution_count": 43,
     "metadata": {},
     "output_type": "execute_result"
    }
   ],
   "source": [
    "df_FEV=pd.read_csv(\"C:\\\\Users\\\\Ajit Pandiyan\\\\OneDrive\\\\Desktop\\\\Data Sci GL\\\\Supervised_Learning\\week 1\\\\inclass\\\\SLR_In_Class_Lab_Exercise_(Week_1)_Questions\\\\lungcapdata.csv\")\n",
    "df_FEV.head()"
   ]
  },
  {
   "cell_type": "code",
   "execution_count": 44,
   "metadata": {
    "id": "Y6fV5VIJGT8q"
   },
   "outputs": [
    {
     "name": "stdout",
     "output_type": "stream",
     "text": [
      "                            OLS Regression Results                            \n",
      "==============================================================================\n",
      "Dep. Variable:               Expected   R-squared:                       0.848\n",
      "Model:                            OLS   Adj. R-squared:                  0.826\n",
      "Method:                 Least Squares   F-statistic:                     37.43\n",
      "Date:                Wed, 05 Oct 2022   Prob (F-statistic):           1.94e-36\n",
      "Time:                        20:36:21   Log-Likelihood:                -323.38\n",
      "No. Observations:                 124   AIC:                             680.8\n",
      "Df Residuals:                     107   BIC:                             728.7\n",
      "Df Model:                          16                                         \n",
      "Covariance Type:            nonrobust                                         \n",
      "======================================================================================\n",
      "                         coef    std err          t      P>|t|      [0.025      0.975]\n",
      "--------------------------------------------------------------------------------------\n",
      "const                 58.0318      3.284     17.673      0.000      51.522      64.541\n",
      "Status                 2.0360      1.168      1.743      0.084      -0.280       4.352\n",
      "Adult_Mortality       -0.0231      0.004     -5.685      0.000      -0.031      -0.015\n",
      "Infant_Deaths          0.0556      0.037      1.507      0.135      -0.018       0.129\n",
      "Hepatitis              0.0656      0.032      2.056      0.042       0.002       0.129\n",
      "Measles             -5.93e-05   6.09e-05     -0.974      0.332      -0.000    6.14e-05\n",
      " BMI                  -0.0266      0.023     -1.179      0.241      -0.071       0.018\n",
      "Underfive_Deaths      -0.0389      0.027     -1.439      0.153      -0.093       0.015\n",
      "Polio                 -0.0091      0.022     -0.417      0.677      -0.053       0.034\n",
      "Diphtheria            -0.0345      0.040     -0.868      0.387      -0.113       0.044\n",
      " HIV                  -1.0385      0.268     -3.881      0.000      -1.569      -0.508\n",
      "GDP                 5.021e-05   3.48e-05      1.445      0.151   -1.87e-05       0.000\n",
      "Population         -1.845e-08    8.6e-09     -2.146      0.034   -3.55e-08   -1.41e-09\n",
      "Malnourished10_19     -0.4850      0.300     -1.616      0.109      -1.080       0.110\n",
      "Malnourished5_9        0.2983      0.283      1.053      0.294      -0.263       0.860\n",
      "Income_Index          18.6518      6.313      2.955      0.004       6.138      31.166\n",
      "Schooling              0.3599      0.346      1.040      0.301      -0.326       1.046\n",
      "==============================================================================\n",
      "Omnibus:                        6.529   Durbin-Watson:                   1.754\n",
      "Prob(Omnibus):                  0.038   Jarque-Bera (JB):               10.518\n",
      "Skew:                           0.122   Prob(JB):                      0.00520\n",
      "Kurtosis:                       4.406   Cond. No.                     9.14e+08\n",
      "==============================================================================\n",
      "\n",
      "Notes:\n",
      "[1] Standard Errors assume that the covariance matrix of the errors is correctly specified.\n",
      "[2] The condition number is large, 9.14e+08. This might indicate that there are\n",
      "strong multicollinearity or other numerical problems.\n"
     ]
    }
   ],
   "source": [
    "##Yes we can\n",
    "z=b.copy()\n",
    "\n",
    "from sklearn.preprocessing import MinMaxScaler\n",
    "\n",
    "z=sm.add_constant(z)\n",
    "\n",
    "scaler = MinMaxScaler()\n",
    "\n",
    "scaled=scaler.fit_transform(z)\n",
    "\n",
    "\n",
    "import statsmodels.api as sm\n",
    "z=sm.add_constant(z)\n",
    "\n",
    "mod=sm.OLS(a,z).fit()\n",
    "print(mod.summary())"
   ]
  },
  {
   "cell_type": "code",
   "execution_count": 52,
   "metadata": {
    "id": "lcZBHcW3GT8r"
   },
   "outputs": [
    {
     "name": "stdout",
     "output_type": "stream",
     "text": [
      "<class 'pandas.core.frame.DataFrame'>\n",
      "RangeIndex: 654 entries, 0 to 653\n",
      "Data columns (total 5 columns):\n",
      " #   Column  Non-Null Count  Dtype  \n",
      "---  ------  --------------  -----  \n",
      " 0   Age     654 non-null    int64  \n",
      " 1   Height  654 non-null    float64\n",
      " 2   Gender  654 non-null    int64  \n",
      " 3   Smoke   654 non-null    int64  \n",
      " 4   FEV     654 non-null    float64\n",
      "dtypes: float64(2), int64(3)\n",
      "memory usage: 25.7 KB\n"
     ]
    },
    {
     "data": {
      "image/png": "[encoded data removed]",
      "text/plain": [
       "<Figure size 1080x576 with 2 Axes>"
      ]
     },
     "metadata": {
      "needs_background": "light"
     },
     "output_type": "display_data"
    }
   ],
   "source": [
    "plt.rcParams['figure.figsize'] = [15,8]\n",
    "\n",
    "sns.heatmap(df_FEV.corr(),annot=True,cmap= plt.cm.CMRmap)\n",
    "\n",
    "\n",
    "df_FEV.info()\n",
    "\n"
   ]
  },
  {
   "cell_type": "code",
   "execution_count": 35,
   "metadata": {
    "id": "mN2JpSKGGT8r",
    "scrolled": false
   },
   "outputs": [],
   "source": [
    "df_FEV_num = df_FEV.select_dtypes(include=np.number).drop([\"FEV\"],axis=1)\n",
    "\n",
    "\n",
    "df_FEV_cat = df_FEV.select_dtypes(include=\"object\")\n",
    "\n"
   ]
  },
  {
   "cell_type": "code",
   "execution_count": null,
   "metadata": {},
   "outputs": [],
   "source": []
  },
  {
   "cell_type": "code",
   "execution_count": 36,
   "metadata": {},
   "outputs": [
    {
     "name": "stdout",
     "output_type": "stream",
     "text": [
      "                            OLS Regression Results                            \n",
      "==============================================================================\n",
      "Dep. Variable:                    FEV   R-squared:                       0.775\n",
      "Model:                            OLS   Adj. R-squared:                  0.774\n",
      "Method:                 Least Squares   F-statistic:                     560.0\n",
      "Date:                Tue, 04 Oct 2022   Prob (F-statistic):          9.10e-209\n",
      "Time:                        22:23:50   Log-Likelihood:                -345.90\n",
      "No. Observations:                 654   AIC:                             701.8\n",
      "Df Residuals:                     649   BIC:                             724.2\n",
      "Df Model:                           4                                         \n",
      "Covariance Type:            nonrobust                                         \n",
      "==============================================================================\n",
      "                 coef    std err          t      P>|t|      [0.025      0.975]\n",
      "------------------------------------------------------------------------------\n",
      "const         -4.4570      0.223    -20.001      0.000      -4.895      -4.019\n",
      "Age            0.0655      0.009      6.904      0.000       0.047       0.084\n",
      "Height         0.1042      0.005     21.901      0.000       0.095       0.114\n",
      "Gender         0.1571      0.033      4.731      0.000       0.092       0.222\n",
      "Smoke         -0.0872      0.059     -1.472      0.141      -0.204       0.029\n",
      "==============================================================================\n",
      "Omnibus:                       22.758   Durbin-Watson:                   1.645\n",
      "Prob(Omnibus):                  0.000   Jarque-Bera (JB):               43.271\n",
      "Skew:                           0.207   Prob(JB):                     4.02e-10\n",
      "Kurtosis:                       4.190   Cond. No.                         861.\n",
      "==============================================================================\n",
      "\n",
      "Notes:\n",
      "[1] Standard Errors assume that the covariance matrix of the errors is correctly specified.\n"
     ]
    }
   ],
   "source": [
    "X =df_FEV_num\n",
    "\n",
    "# consider the dependent variable\n",
    "y = df_FEV[\"FEV\"]\n",
    "\n",
    "# fit a full model with an intercept using fit()\n",
    "# add_constant(): adds the intercept term to the model\n",
    "MLR_model = sm.OLS(y, sm.add_constant(X)).fit()\n",
    "\n",
    "# print the summary output\n",
    "print(MLR_model.summary())"
   ]
  },
  {
   "cell_type": "code",
   "execution_count": 37,
   "metadata": {
    "id": "HJXiKKzqGT8s"
   },
   "outputs": [],
   "source": [
    "## To check the auto correlation\n",
    "\n",
    "df_FEV.head()\n",
    "\n",
    "\n",
    "y=df_FEV[\"FEV\"]\n",
    "x=df_FEV.drop(columns=\"FEV\")\n"
   ]
  },
  {
   "cell_type": "code",
   "execution_count": 38,
   "metadata": {},
   "outputs": [
    {
     "data": {
      "text/html": [
       "<table class=\"simpletable\">\n",
       "<caption>OLS Regression Results</caption>\n",
       "<tr>\n",
       "  <th>Dep. Variable:</th>           <td>FEV</td>       <th>  R-squared:         </th> <td>   0.775</td> \n",
       "</tr>\n",
       "<tr>\n",
       "  <th>Model:</th>                   <td>OLS</td>       <th>  Adj. R-squared:    </th> <td>   0.774</td> \n",
       "</tr>\n",
       "<tr>\n",
       "  <th>Method:</th>             <td>Least Squares</td>  <th>  F-statistic:       </th> <td>   560.0</td> \n",
       "</tr>\n",
       "<tr>\n",
       "  <th>Date:</th>             <td>Tue, 04 Oct 2022</td> <th>  Prob (F-statistic):</th> <td>9.10e-209</td>\n",
       "</tr>\n",
       "<tr>\n",
       "  <th>Time:</th>                 <td>22:23:58</td>     <th>  Log-Likelihood:    </th> <td> -345.90</td> \n",
       "</tr>\n",
       "<tr>\n",
       "  <th>No. Observations:</th>      <td>   654</td>      <th>  AIC:               </th> <td>   701.8</td> \n",
       "</tr>\n",
       "<tr>\n",
       "  <th>Df Residuals:</th>          <td>   649</td>      <th>  BIC:               </th> <td>   724.2</td> \n",
       "</tr>\n",
       "<tr>\n",
       "  <th>Df Model:</th>              <td>     4</td>      <th>                     </th>     <td> </td>    \n",
       "</tr>\n",
       "<tr>\n",
       "  <th>Covariance Type:</th>      <td>nonrobust</td>    <th>                     </th>     <td> </td>    \n",
       "</tr>\n",
       "</table>\n",
       "<table class=\"simpletable\">\n",
       "<tr>\n",
       "     <td></td>       <th>coef</th>     <th>std err</th>      <th>t</th>      <th>P>|t|</th>  <th>[0.025</th>    <th>0.975]</th>  \n",
       "</tr>\n",
       "<tr>\n",
       "  <th>const</th>  <td>   -4.4570</td> <td>    0.223</td> <td>  -20.001</td> <td> 0.000</td> <td>   -4.895</td> <td>   -4.019</td>\n",
       "</tr>\n",
       "<tr>\n",
       "  <th>Age</th>    <td>    0.0655</td> <td>    0.009</td> <td>    6.904</td> <td> 0.000</td> <td>    0.047</td> <td>    0.084</td>\n",
       "</tr>\n",
       "<tr>\n",
       "  <th>Height</th> <td>    0.1042</td> <td>    0.005</td> <td>   21.901</td> <td> 0.000</td> <td>    0.095</td> <td>    0.114</td>\n",
       "</tr>\n",
       "<tr>\n",
       "  <th>Gender</th> <td>    0.1571</td> <td>    0.033</td> <td>    4.731</td> <td> 0.000</td> <td>    0.092</td> <td>    0.222</td>\n",
       "</tr>\n",
       "<tr>\n",
       "  <th>Smoke</th>  <td>   -0.0872</td> <td>    0.059</td> <td>   -1.472</td> <td> 0.141</td> <td>   -0.204</td> <td>    0.029</td>\n",
       "</tr>\n",
       "</table>\n",
       "<table class=\"simpletable\">\n",
       "<tr>\n",
       "  <th>Omnibus:</th>       <td>22.758</td> <th>  Durbin-Watson:     </th> <td>   1.645</td>\n",
       "</tr>\n",
       "<tr>\n",
       "  <th>Prob(Omnibus):</th> <td> 0.000</td> <th>  Jarque-Bera (JB):  </th> <td>  43.271</td>\n",
       "</tr>\n",
       "<tr>\n",
       "  <th>Skew:</th>          <td> 0.207</td> <th>  Prob(JB):          </th> <td>4.02e-10</td>\n",
       "</tr>\n",
       "<tr>\n",
       "  <th>Kurtosis:</th>      <td> 4.190</td> <th>  Cond. No.          </th> <td>    861.</td>\n",
       "</tr>\n",
       "</table><br/><br/>Notes:<br/>[1] Standard Errors assume that the covariance matrix of the errors is correctly specified."
      ],
      "text/plain": [
       "<class 'statsmodels.iolib.summary.Summary'>\n",
       "\"\"\"\n",
       "                            OLS Regression Results                            \n",
       "==============================================================================\n",
       "Dep. Variable:                    FEV   R-squared:                       0.775\n",
       "Model:                            OLS   Adj. R-squared:                  0.774\n",
       "Method:                 Least Squares   F-statistic:                     560.0\n",
       "Date:                Tue, 04 Oct 2022   Prob (F-statistic):          9.10e-209\n",
       "Time:                        22:23:58   Log-Likelihood:                -345.90\n",
       "No. Observations:                 654   AIC:                             701.8\n",
       "Df Residuals:                     649   BIC:                             724.2\n",
       "Df Model:                           4                                         \n",
       "Covariance Type:            nonrobust                                         \n",
       "==============================================================================\n",
       "                 coef    std err          t      P>|t|      [0.025      0.975]\n",
       "------------------------------------------------------------------------------\n",
       "const         -4.4570      0.223    -20.001      0.000      -4.895      -4.019\n",
       "Age            0.0655      0.009      6.904      0.000       0.047       0.084\n",
       "Height         0.1042      0.005     21.901      0.000       0.095       0.114\n",
       "Gender         0.1571      0.033      4.731      0.000       0.092       0.222\n",
       "Smoke         -0.0872      0.059     -1.472      0.141      -0.204       0.029\n",
       "==============================================================================\n",
       "Omnibus:                       22.758   Durbin-Watson:                   1.645\n",
       "Prob(Omnibus):                  0.000   Jarque-Bera (JB):               43.271\n",
       "Skew:                           0.207   Prob(JB):                     4.02e-10\n",
       "Kurtosis:                       4.190   Cond. No.                         861.\n",
       "==============================================================================\n",
       "\n",
       "Notes:\n",
       "[1] Standard Errors assume that the covariance matrix of the errors is correctly specified.\n",
       "\"\"\""
      ]
     },
     "execution_count": 38,
     "metadata": {},
     "output_type": "execute_result"
    }
   ],
   "source": [
    "MLR_model=sm.OLS(y, sm.add_constant(x)).fit()\n",
    "\n",
    "residuals=MLR_model.resid\n",
    "MLR_model.summary()"
   ]
  },
  {
   "cell_type": "code",
   "execution_count": 39,
   "metadata": {},
   "outputs": [
    {
     "data": {
      "text/plain": [
       "1.6452015855915547"
      ]
     },
     "execution_count": 39,
     "metadata": {},
     "output_type": "execute_result"
    }
   ],
   "source": [
    "from statsmodels.stats.stattools import durbin_watson\n",
    "\n",
    "durbin_watson(residuals)"
   ]
  },
  {
   "cell_type": "code",
   "execution_count": 40,
   "metadata": {
    "id": "5vUopDxtGT8t",
    "scrolled": false
   },
   "outputs": [
    {
     "data": {
      "image/png": "[encoded data removed]",
      "text/plain": [
       "<Figure size 720x576 with 1 Axes>"
      ]
     },
     "metadata": {
      "needs_background": "light"
     },
     "output_type": "display_data"
    }
   ],
   "source": [
    "MLR_model.summary()\n",
    "from statsmodels.graphics.gofplots import qqplot\n",
    "\n",
    "\n",
    "y=df_FEV[\"FEV\"]\n",
    "x=df_FEV.drop(columns=\"FEV\")\n",
    "MLR_model=sm.OLS(y,sm.add_constant(x)).fit()\n",
    "plt.rcParams['figure.figsize']=(10,8)\n",
    "\n",
    "qqplot(MLR_model.resid, line='r')\n",
    "plt.title('Q-Q Plot', fontsize=15)\n",
    "plt.xlabel('Theoretical Quantiles',fontsize=15)\n",
    "plt.ylabel('Sample Quantiles',fontsize=15)\n",
    "plt.show()"
   ]
  },
  {
   "cell_type": "markdown",
   "metadata": {
    "id": "6ruIu1g6GT8t"
   },
   "source": [
    "<a id=\"ml_perf\"> </a>\n",
    "## 6. Model Performance"
   ]
  },
  {
   "cell_type": "code",
   "execution_count": 41,
   "metadata": {
    "id": "lxxdB1FNGT8u"
   },
   "outputs": [
    {
     "name": "stdout",
     "output_type": "stream",
     "text": [
      "     const  Age  Height  Gender  Smoke\n",
      "0      1.0    9    57.0       0      0\n",
      "1      1.0    8    67.5       0      0\n",
      "2      1.0    7    54.5       0      0\n",
      "3      1.0    9    53.0       1      0\n",
      "4      1.0    9    57.0       1      0\n",
      "..     ...  ...     ...     ...    ...\n",
      "649    1.0   16    67.0       1      1\n",
      "650    1.0   15    68.0       1      1\n",
      "651    1.0   18    60.0       0      0\n",
      "652    1.0   16    63.0       0      1\n",
      "653    1.0   15    66.5       0      0\n",
      "\n",
      "[654 rows x 5 columns]\n"
     ]
    }
   ],
   "source": [
    "y=df_FEV[\"FEV\"]\n",
    "x=df_FEV.drop(columns=\"FEV\")\n",
    "from sklearn.metrics import mean_squared_error\n",
    "\n",
    "x=sm.add_constant(x)\n",
    "print(x)\n",
    "MLR_model=sm.OLS(y,x).fit()\n",
    "\n",
    "pred=MLR_model.predict(x)\n",
    "mse=round(mean_squared_error(y,pred),4)\n",
    "\n",
    "rmse= round(np.sqrt(mse),4)\n",
    "MLR_model.summary()\n",
    "\n",
    "X_train, X_test, y_train, y_test = train_test_split(x, y, random_state = 1, test_size = 0.3)"
   ]
  },
  {
   "cell_type": "code",
   "execution_count": 53,
   "metadata": {},
   "outputs": [
    {
     "name": "stdout",
     "output_type": "stream",
     "text": [
      "Mean Squared Error (MSE):  0.1595\n",
      "Root Mean Squared Error (RMSE):  0.3994\n"
     ]
    }
   ],
   "source": [
    "y_pred = MLR_model.predict(X_test)\n",
    "\n",
    "# calculating the MSE for the test data and then rounding the value upto 4 digits\n",
    "mse_test = round(mean_squared_error(y_test, y_pred),4)\n",
    "\n",
    "# printing the mse for the test set\n",
    "print(\"Mean Squared Error (MSE): \", mse_test)\n",
    "\n",
    "# taking the square root of the mse and then rounding the value upto 4 digits\n",
    "rmse_test = round(np.sqrt(mse_test), 4)\n",
    "\n",
    "# printing the rmse for the test set\n",
    "print(\"Root Mean Squared Error (RMSE): \", rmse_test)"
   ]
  },
  {
   "cell_type": "code",
   "execution_count": 54,
   "metadata": {
    "id": "asdF_imlGT8v"
   },
   "outputs": [
    {
     "name": "stdout",
     "output_type": "stream",
     "text": [
      "Mean Absolute Error (MAE) on test set:  0.3017\n",
      "Mean Absolute Percentage Error (MAPE) on test set:  12.0487\n"
     ]
    }
   ],
   "source": [
    "def mape(actual, predicted):\n",
    "    return (np.mean(np.abs((actual - predicted) / actual)) * 100)\n",
    "\n",
    "\n",
    "mae_test = round(mean_absolute_error(y_test, y_pred),4)\n",
    "\n",
    "# printing the MAE for the test set\n",
    "print(\"Mean Absolute Error (MAE) on test set: \", mae_test)\n",
    "\n",
    "# Calculating the MAPE using the \"mape()\" function created above\n",
    "\n",
    "# calculating the MAPE for the  data and then rounding the value upto 4 digits\n",
    "mape_test = round(mape(y_test, y_pred),4)\n",
    "\n",
    "# printing the mape for the tra set\n",
    "print(\"Mean Absolute Percentage Error (MAPE) on test set: \", mape_test)"
   ]
  },
  {
   "cell_type": "code",
   "execution_count": 45,
   "metadata": {
    "id": "GODi3g3MGT8w"
   },
   "outputs": [
    {
     "name": "stdout",
     "output_type": "stream",
     "text": [
      "                            OLS Regression Results                            \n",
      "==============================================================================\n",
      "Dep. Variable:                    FEV   R-squared:                       0.775\n",
      "Model:                            OLS   Adj. R-squared:                  0.774\n",
      "Method:                 Least Squares   F-statistic:                     560.0\n",
      "Date:                Tue, 04 Oct 2022   Prob (F-statistic):          9.10e-209\n",
      "Time:                        22:26:33   Log-Likelihood:                -345.90\n",
      "No. Observations:                 654   AIC:                             701.8\n",
      "Df Residuals:                     649   BIC:                             724.2\n",
      "Df Model:                           4                                         \n",
      "Covariance Type:            nonrobust                                         \n",
      "==============================================================================\n",
      "                 coef    std err          t      P>|t|      [0.025      0.975]\n",
      "------------------------------------------------------------------------------\n",
      "const         -4.4570      0.223    -20.001      0.000      -4.895      -4.019\n",
      "Age            0.0655      0.009      6.904      0.000       0.047       0.084\n",
      "Height         0.1042      0.005     21.901      0.000       0.095       0.114\n",
      "Gender         0.1571      0.033      4.731      0.000       0.092       0.222\n",
      "Smoke         -0.0872      0.059     -1.472      0.141      -0.204       0.029\n",
      "==============================================================================\n",
      "Omnibus:                       22.758   Durbin-Watson:                   1.645\n",
      "Prob(Omnibus):                  0.000   Jarque-Bera (JB):               43.271\n",
      "Skew:                           0.207   Prob(JB):                     4.02e-10\n",
      "Kurtosis:                       4.190   Cond. No.                         861.\n",
      "==============================================================================\n",
      "\n",
      "Notes:\n",
      "[1] Standard Errors assume that the covariance matrix of the errors is correctly specified.\n",
      "\n",
      " Root Mean Squared Error (RMSE) on train set:  0.4134\n",
      "\n",
      " Root Mean Squared Error (RMSE) on test set:  0.3993\n"
     ]
    }
   ],
   "source": [
    "\n",
    "df_FEV_num = df_FEV.select_dtypes(include=np.number).drop([\"FEV\"],axis=1)\n",
    "\n",
    "\n",
    "X = df_FEV_num\n",
    "\n",
    "\n",
    "X = sm.add_constant(X)\n",
    "\n",
    "\n",
    "y = df_FEV[\"FEV\"]\n",
    "\n",
    "\n",
    "X_train, X_test, y_train, y_test = train_test_split(X, y, random_state = 1, test_size = 0.2)\n",
    "\n",
    "\n",
    "MLR_model = sm.OLS(y, X).fit()\n",
    "\n",
    "# print the model summary\n",
    "print(MLR_model.summary())\n",
    "\n",
    "train_pred = MLR_model.predict(X_train)\n",
    "\n",
    "test_pred = MLR_model.predict(X_test)\n",
    "\n",
    "\n",
    "mse_train = mean_squared_error(y_train, train_pred)\n",
    "\n",
    " \n",
    "rmse_train = round(np.sqrt(mse_train), 4)\n",
    "\n",
    "\n",
    "print(\"\\n Root Mean Squared Error (RMSE) on train set: \", rmse_train)\n",
    "\n",
    "\n",
    "mse_test = mean_squared_error(y_test, test_pred)\n",
    "\n",
    "\n",
    "rmse_test = round(np.sqrt(mse_test), 4)\n",
    "\n",
    "\n",
    "print(\"\\n Root Mean Squared Error (RMSE) on test set: \", rmse_test)"
   ]
  }
 ],
 "metadata": {
  "colab": {
   "collapsed_sections": [],
   "name": "SLR - In-Class - Lab Exercise (DAY 1) - Questions  [v1.0 - 080420].ipynb",
   "provenance": []
  },
  "kernelspec": {
   "display_name": "Python 3 (ipykernel)",
   "language": "python",
   "name": "python3"
  },
  "language_info": {
   "codemirror_mode": {
    "name": "ipython",
    "version": 3
   },
   "file_extension": ".py",
   "mimetype": "text/x-python",
   "name": "python",
   "nbconvert_exporter": "python",
   "pygments_lexer": "ipython3",
   "version": "3.9.12"
  }
 },
 "nbformat": 4,
 "nbformat_minor": 1
}
