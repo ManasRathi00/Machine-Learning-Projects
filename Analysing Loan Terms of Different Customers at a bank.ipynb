{
 "cells": [
  {
   "cell_type": "code",
   "execution_count": 1,
   "metadata": {},
   "outputs": [],
   "source": [
    "import numpy as np\n",
    "import pandas as pd\n",
    "import matplotlib.pyplot as plt\n",
    "import seaborn as sns\n",
    "\n",
    "import warnings\n",
    "warnings.filterwarnings('ignore')"
   ]
  },
  {
   "cell_type": "code",
   "execution_count": 58,
   "metadata": {},
   "outputs": [
    {
     "data": {
      "text/html": [
       "<div>\n",
       "<style scoped>\n",
       "    .dataframe tbody tr th:only-of-type {\n",
       "        vertical-align: middle;\n",
       "    }\n",
       "\n",
       "    .dataframe tbody tr th {\n",
       "        vertical-align: top;\n",
       "    }\n",
       "\n",
       "    .dataframe thead th {\n",
       "        text-align: right;\n",
       "    }\n",
       "</style>\n",
       "<table border=\"1\" class=\"dataframe\">\n",
       "  <thead>\n",
       "    <tr style=\"text-align: right;\">\n",
       "      <th></th>\n",
       "      <th>Hourly_Income</th>\n",
       "      <th>Hourly_Expense</th>\n",
       "      <th>family_members_count</th>\n",
       "      <th>House_rent</th>\n",
       "      <th>Highest_income_Member</th>\n",
       "    </tr>\n",
       "  </thead>\n",
       "  <tbody>\n",
       "    <tr>\n",
       "      <th>0</th>\n",
       "      <td>1000</td>\n",
       "      <td>651361</td>\n",
       "      <td>3</td>\n",
       "      <td>1299</td>\n",
       "      <td>Olivia</td>\n",
       "    </tr>\n",
       "    <tr>\n",
       "      <th>1</th>\n",
       "      <td>2009</td>\n",
       "      <td>217371</td>\n",
       "      <td>4</td>\n",
       "      <td>2300</td>\n",
       "      <td>George</td>\n",
       "    </tr>\n",
       "    <tr>\n",
       "      <th>2</th>\n",
       "      <td>24418</td>\n",
       "      <td>2746</td>\n",
       "      <td>2</td>\n",
       "      <td>3411</td>\n",
       "      <td>Isla</td>\n",
       "    </tr>\n",
       "    <tr>\n",
       "      <th>3</th>\n",
       "      <td>444478</td>\n",
       "      <td>2356</td>\n",
       "      <td>3</td>\n",
       "      <td>3422</td>\n",
       "      <td>Harry</td>\n",
       "    </tr>\n",
       "    <tr>\n",
       "      <th>4</th>\n",
       "      <td>324235</td>\n",
       "      <td>13436</td>\n",
       "      <td>1</td>\n",
       "      <td>4566</td>\n",
       "      <td>Ava</td>\n",
       "    </tr>\n",
       "    <tr>\n",
       "      <th>5</th>\n",
       "      <td>243242</td>\n",
       "      <td>5732</td>\n",
       "      <td>4</td>\n",
       "      <td>4211</td>\n",
       "      <td>Noah</td>\n",
       "    </tr>\n",
       "    <tr>\n",
       "      <th>6</th>\n",
       "      <td>3434234</td>\n",
       "      <td>346346</td>\n",
       "      <td>5</td>\n",
       "      <td>4600</td>\n",
       "      <td>Sophia</td>\n",
       "    </tr>\n",
       "    <tr>\n",
       "      <th>7</th>\n",
       "      <td>7567457</td>\n",
       "      <td>3463</td>\n",
       "      <td>6</td>\n",
       "      <td>736</td>\n",
       "      <td>Jacobi</td>\n",
       "    </tr>\n",
       "    <tr>\n",
       "      <th>8</th>\n",
       "      <td>9235</td>\n",
       "      <td>1132</td>\n",
       "      <td>3</td>\n",
       "      <td>672</td>\n",
       "      <td>Freddie</td>\n",
       "    </tr>\n",
       "    <tr>\n",
       "      <th>9</th>\n",
       "      <td>238237</td>\n",
       "      <td>23534</td>\n",
       "      <td>6</td>\n",
       "      <td>0</td>\n",
       "      <td>Ella</td>\n",
       "    </tr>\n",
       "    <tr>\n",
       "      <th>10</th>\n",
       "      <td>1312</td>\n",
       "      <td>242235</td>\n",
       "      <td>3</td>\n",
       "      <td>734</td>\n",
       "      <td>Grace</td>\n",
       "    </tr>\n",
       "    <tr>\n",
       "      <th>11</th>\n",
       "      <td>3412</td>\n",
       "      <td>235235</td>\n",
       "      <td>5</td>\n",
       "      <td>2374</td>\n",
       "      <td>Ella</td>\n",
       "    </tr>\n",
       "  </tbody>\n",
       "</table>\n",
       "</div>"
      ],
      "text/plain": [
       "    Hourly_Income  Hourly_Expense  family_members_count  House_rent  \\\n",
       "0            1000          651361                     3        1299   \n",
       "1            2009          217371                     4        2300   \n",
       "2           24418            2746                     2        3411   \n",
       "3          444478            2356                     3        3422   \n",
       "4          324235           13436                     1        4566   \n",
       "5          243242            5732                     4        4211   \n",
       "6         3434234          346346                     5        4600   \n",
       "7         7567457            3463                     6         736   \n",
       "8            9235            1132                     3         672   \n",
       "9          238237           23534                     6           0   \n",
       "10           1312          242235                     3         734   \n",
       "11           3412          235235                     5        2374   \n",
       "\n",
       "   Highest_income_Member  \n",
       "0                 Olivia  \n",
       "1                 George  \n",
       "2                   Isla  \n",
       "3                  Harry  \n",
       "4                    Ava  \n",
       "5                   Noah  \n",
       "6                 Sophia  \n",
       "7                 Jacobi  \n",
       "8                Freddie  \n",
       "9                   Ella  \n",
       "10                 Grace  \n",
       "11                  Ella  "
      ]
     },
     "execution_count": 58,
     "metadata": {},
     "output_type": "execute_result"
    }
   ],
   "source": [
    "#1. Create a dataframe using below data and answer the below questions:\n",
    "\n",
    "df1=pd.DataFrame({'Hourly_Income' : [1000,2009,24418,444478,324235,243242,3434234,7567457,9235,238237,1312,3412],\n",
    "    'Hourly_Expense' :  [651361,217371,2746,2356,13436,5732,346346,3463,1132,23534,242235,235235],\n",
    "    'family_members_count' : [3,4,2,3,1,4,5,6,3,6,3,5],\n",
    "    'House_rent' : [1299,2300,3411,3422,4566,4211,4600,736,672,0,734,2374],\n",
    "    'Highest_income_Member' : [\"Olivia\",\"George\",\"Isla\",\"Harry\",\"Ava\",\"Noah\",\"Sophia\",\"Jacobi\",\"Freddie\",\"Ella\",\"Grace\",\"Ella\"]})\n",
    "df1"
   ]
  },
  {
   "cell_type": "code",
   "execution_count": 59,
   "metadata": {},
   "outputs": [
    {
     "data": {
      "text/html": [
       "<div>\n",
       "<style scoped>\n",
       "    .dataframe tbody tr th:only-of-type {\n",
       "        vertical-align: middle;\n",
       "    }\n",
       "\n",
       "    .dataframe tbody tr th {\n",
       "        vertical-align: top;\n",
       "    }\n",
       "\n",
       "    .dataframe thead th {\n",
       "        text-align: right;\n",
       "    }\n",
       "</style>\n",
       "<table border=\"1\" class=\"dataframe\">\n",
       "  <thead>\n",
       "    <tr style=\"text-align: right;\">\n",
       "      <th></th>\n",
       "      <th>Hourly_Income</th>\n",
       "      <th>Hourly_Expense</th>\n",
       "      <th>family_members_count</th>\n",
       "      <th>House_rent</th>\n",
       "    </tr>\n",
       "  </thead>\n",
       "  <tbody>\n",
       "    <tr>\n",
       "      <th>count</th>\n",
       "      <td>1.200000e+01</td>\n",
       "      <td>12.000000</td>\n",
       "      <td>12.000000</td>\n",
       "      <td>12.000000</td>\n",
       "    </tr>\n",
       "    <tr>\n",
       "      <th>mean</th>\n",
       "      <td>1.024439e+06</td>\n",
       "      <td>145412.250000</td>\n",
       "      <td>3.750000</td>\n",
       "      <td>2360.416667</td>\n",
       "    </tr>\n",
       "    <tr>\n",
       "      <th>std</th>\n",
       "      <td>2.274083e+06</td>\n",
       "      <td>202831.565333</td>\n",
       "      <td>1.544786</td>\n",
       "      <td>1661.663813</td>\n",
       "    </tr>\n",
       "    <tr>\n",
       "      <th>min</th>\n",
       "      <td>1.000000e+03</td>\n",
       "      <td>1132.000000</td>\n",
       "      <td>1.000000</td>\n",
       "      <td>0.000000</td>\n",
       "    </tr>\n",
       "    <tr>\n",
       "      <th>25%</th>\n",
       "      <td>3.061250e+03</td>\n",
       "      <td>3283.750000</td>\n",
       "      <td>3.000000</td>\n",
       "      <td>735.500000</td>\n",
       "    </tr>\n",
       "    <tr>\n",
       "      <th>50%</th>\n",
       "      <td>1.313275e+05</td>\n",
       "      <td>18485.000000</td>\n",
       "      <td>3.500000</td>\n",
       "      <td>2337.000000</td>\n",
       "    </tr>\n",
       "    <tr>\n",
       "      <th>75%</th>\n",
       "      <td>3.542958e+05</td>\n",
       "      <td>236985.000000</td>\n",
       "      <td>5.000000</td>\n",
       "      <td>3619.250000</td>\n",
       "    </tr>\n",
       "    <tr>\n",
       "      <th>max</th>\n",
       "      <td>7.567457e+06</td>\n",
       "      <td>651361.000000</td>\n",
       "      <td>6.000000</td>\n",
       "      <td>4600.000000</td>\n",
       "    </tr>\n",
       "  </tbody>\n",
       "</table>\n",
       "</div>"
      ],
      "text/plain": [
       "       Hourly_Income  Hourly_Expense  family_members_count   House_rent\n",
       "count   1.200000e+01       12.000000             12.000000    12.000000\n",
       "mean    1.024439e+06   145412.250000              3.750000  2360.416667\n",
       "std     2.274083e+06   202831.565333              1.544786  1661.663813\n",
       "min     1.000000e+03     1132.000000              1.000000     0.000000\n",
       "25%     3.061250e+03     3283.750000              3.000000   735.500000\n",
       "50%     1.313275e+05    18485.000000              3.500000  2337.000000\n",
       "75%     3.542958e+05   236985.000000              5.000000  3619.250000\n",
       "max     7.567457e+06   651361.000000              6.000000  4600.000000"
      ]
     },
     "execution_count": 59,
     "metadata": {},
     "output_type": "execute_result"
    }
   ],
   "source": [
    "df1.describe()"
   ]
  },
  {
   "cell_type": "code",
   "execution_count": 63,
   "metadata": {},
   "outputs": [
    {
     "name": "stdout",
     "output_type": "stream",
     "text": [
      "Hourly_Income            1000\n",
      "Hourly_Expense           1132\n",
      "family_members_count        1\n",
      "House_rent                  0\n",
      "Highest_income_Member     Ava\n",
      "dtype: object\n",
      " \n",
      "Hourly_Income           1.024439e+06\n",
      "Hourly_Expense          1.454122e+05\n",
      "family_members_count    3.750000e+00\n",
      "House_rent              2.360417e+03\n",
      "dtype: float64\n",
      " \n",
      "Hourly_Income            7567457\n",
      "Hourly_Expense            651361\n",
      "family_members_count           6\n",
      "House_rent                  4600\n",
      "Highest_income_Member     Sophia\n",
      "dtype: object\n",
      " \n",
      "       Hourly_Income  Hourly_Expense  family_members_count   House_rent\n",
      "count   1.200000e+01       12.000000             12.000000    12.000000\n",
      "mean    1.024439e+06   145412.250000              3.750000  2360.416667\n",
      "std     2.274083e+06   202831.565333              1.544786  1661.663813\n",
      "min     1.000000e+03     1132.000000              1.000000     0.000000\n",
      "25%     3.061250e+03     3283.750000              3.000000   735.500000\n",
      "50%     1.313275e+05    18485.000000              3.500000  2337.000000\n",
      "75%     3.542958e+05   236985.000000              5.000000  3619.250000\n",
      "max     7.567457e+06   651361.000000              6.000000  4600.000000\n"
     ]
    }
   ],
   "source": [
    "## A. Display the five point summary of the data.\n",
    "\n",
    "Q0=np.min(df1)\n",
    "Q1=np.mean(df1)\n",
    "Q2=np.max(df1)\n",
    "\n",
    "print(Q0)\n",
    "print(\" \")\n",
    "print(Q1)\n",
    "print(\" \")\n",
    "print(Q2)\n",
    "print(\" \")\n",
    " # Another way\n",
    "print(df1.describe())"
   ]
  },
  {
   "cell_type": "code",
   "execution_count": 6,
   "metadata": {},
   "outputs": [
    {
     "data": {
      "text/plain": [
       "145412.25"
      ]
     },
     "execution_count": 6,
     "metadata": {},
     "output_type": "execute_result"
    }
   ],
   "source": [
    "## B. What is the mean of the hourly expense?\n",
    "\n",
    "df1['Hourly_Expense'].mean()"
   ]
  },
  {
   "cell_type": "code",
   "execution_count": 7,
   "metadata": {},
   "outputs": [
    {
     "data": {
      "text/plain": [
       "18485.0"
      ]
     },
     "execution_count": 7,
     "metadata": {},
     "output_type": "execute_result"
    }
   ],
   "source": [
    "## C. What is the median of the hourly expense?\n",
    "\n",
    "df1['Hourly_Expense'].median()"
   ]
  },
  {
   "cell_type": "code",
   "execution_count": 8,
   "metadata": {},
   "outputs": [
    {
     "data": {
      "text/plain": [
       "<AxesSubplot:xlabel='family_members_count', ylabel='Hourly_Income'>"
      ]
     },
     "execution_count": 8,
     "metadata": {},
     "output_type": "execute_result"
    },
    {
     "data": {
      "image/png": "[encoded data removed]",
      "text/plain": [
       "<Figure size 432x288 with 1 Axes>"
      ]
     },
     "metadata": {
      "needs_background": "light"
     },
     "output_type": "display_data"
    }
   ],
   "source": [
    "## D. Find the family member with maximum income and using a suitable graph\n",
    "\n",
    "sns.barplot(data=df1,x='family_members_count',y='Hourly_Income')\n",
    "## From this graph we can tell that the family members count 6 have the maximum income."
   ]
  },
  {
   "cell_type": "code",
   "execution_count": 9,
   "metadata": {},
   "outputs": [
    {
     "data": {
      "text/plain": [
       "351234.5"
      ]
     },
     "execution_count": 9,
     "metadata": {},
     "output_type": "execute_result"
    }
   ],
   "source": [
    "## E. Calculate IQR(the difference between 75% and 25% quartile) for Hourly_Income and Hourly_Expense.\n",
    "\n",
    "Q1=df1['Hourly_Income'].quantile(0.25)\n",
    "Q3=df1['Hourly_Income'].quantile(0.75)\n",
    "\n",
    "IQR = Q3-Q1\n",
    "IQR"
   ]
  },
  {
   "cell_type": "code",
   "execution_count": 10,
   "metadata": {},
   "outputs": [
    {
     "data": {
      "text/plain": [
       "233701.25"
      ]
     },
     "execution_count": 10,
     "metadata": {},
     "output_type": "execute_result"
    }
   ],
   "source": [
    "Q1=df1['Hourly_Expense'].quantile(0.25)\n",
    "Q3=df1['Hourly_Expense'].quantile(0.75)\n",
    "\n",
    "IQR = Q3-Q1\n",
    "IQR"
   ]
  },
  {
   "cell_type": "code",
   "execution_count": 11,
   "metadata": {},
   "outputs": [
    {
     "data": {
      "text/plain": [
       "Hourly_Income     2.274083e+06\n",
       "Hourly_Expense    2.028316e+05\n",
       "dtype: float64"
      ]
     },
     "execution_count": 11,
     "metadata": {},
     "output_type": "execute_result"
    }
   ],
   "source": [
    "## F. Calculate the standard deviation for first 2 columns.\n",
    "\n",
    "df1[['Hourly_Income','Hourly_Expense']].std()"
   ]
  },
  {
   "cell_type": "code",
   "execution_count": 12,
   "metadata": {},
   "outputs": [
    {
     "data": {
      "text/plain": [
       "Hourly_Income           5.171452e+12\n",
       "Hourly_Expense          4.114064e+10\n",
       "family_members_count    2.386364e+00\n",
       "House_rent              2.761127e+06\n",
       "dtype: float64"
      ]
     },
     "execution_count": 12,
     "metadata": {},
     "output_type": "execute_result"
    }
   ],
   "source": [
    "## G. Calculate variance for the first 4 columns\n",
    "\n",
    "df1[['Hourly_Income','Hourly_Expense','family_members_count','House_rent']].var()"
   ]
  },
  {
   "cell_type": "code",
   "execution_count": 123,
   "metadata": {},
   "outputs": [
    {
     "data": {
      "text/html": [
       "<div>\n",
       "<style scoped>\n",
       "    .dataframe tbody tr th:only-of-type {\n",
       "        vertical-align: middle;\n",
       "    }\n",
       "\n",
       "    .dataframe tbody tr th {\n",
       "        vertical-align: top;\n",
       "    }\n",
       "\n",
       "    .dataframe thead th {\n",
       "        text-align: right;\n",
       "    }\n",
       "</style>\n",
       "<table border=\"1\" class=\"dataframe\">\n",
       "  <thead>\n",
       "    <tr style=\"text-align: right;\">\n",
       "      <th></th>\n",
       "      <th>ListingCreationDate</th>\n",
       "      <th>Term</th>\n",
       "      <th>LoanStatus</th>\n",
       "      <th>ClosedDate</th>\n",
       "      <th>BorrowerAPR</th>\n",
       "      <th>BorrowerRate</th>\n",
       "      <th>LenderYield</th>\n",
       "      <th>ProsperRating (Alpha)</th>\n",
       "      <th>ProsperScore</th>\n",
       "      <th>ListingCategory (numeric)</th>\n",
       "      <th>...</th>\n",
       "      <th>EmploymentStatus</th>\n",
       "      <th>AmountDelinquent</th>\n",
       "      <th>StatedMonthlyIncome</th>\n",
       "      <th>LoanCurrentDaysDelinquent</th>\n",
       "      <th>LoanOriginalAmount</th>\n",
       "      <th>LoanOriginationDate</th>\n",
       "      <th>LoanOriginationQuarter</th>\n",
       "      <th>MonthlyLoanPayment</th>\n",
       "      <th>LP_InterestandFees</th>\n",
       "      <th>Investors</th>\n",
       "    </tr>\n",
       "  </thead>\n",
       "  <tbody>\n",
       "    <tr>\n",
       "      <th>0</th>\n",
       "      <td>09:29.3</td>\n",
       "      <td>36</td>\n",
       "      <td>Completed</td>\n",
       "      <td>14-08-2009 0.00</td>\n",
       "      <td>0.16516</td>\n",
       "      <td>0.1580</td>\n",
       "      <td>0.1380</td>\n",
       "      <td>NaN</td>\n",
       "      <td>NaN</td>\n",
       "      <td>0</td>\n",
       "      <td>...</td>\n",
       "      <td>Self-employed</td>\n",
       "      <td>472.0</td>\n",
       "      <td>3083.333333</td>\n",
       "      <td>0</td>\n",
       "      <td>9425</td>\n",
       "      <td>12-09-2007 0.00</td>\n",
       "      <td>Q3 2007</td>\n",
       "      <td>330.43</td>\n",
       "      <td>1971.14</td>\n",
       "      <td>258</td>\n",
       "    </tr>\n",
       "    <tr>\n",
       "      <th>1</th>\n",
       "      <td>28:07.9</td>\n",
       "      <td>36</td>\n",
       "      <td>Current</td>\n",
       "      <td>NaN</td>\n",
       "      <td>0.12016</td>\n",
       "      <td>0.0920</td>\n",
       "      <td>0.0820</td>\n",
       "      <td>A</td>\n",
       "      <td>7.0</td>\n",
       "      <td>2</td>\n",
       "      <td>...</td>\n",
       "      <td>Employed</td>\n",
       "      <td>0.0</td>\n",
       "      <td>6125.000000</td>\n",
       "      <td>0</td>\n",
       "      <td>10000</td>\n",
       "      <td>03-03-2014 0.00</td>\n",
       "      <td>Q1 2014</td>\n",
       "      <td>318.93</td>\n",
       "      <td>0.00</td>\n",
       "      <td>1</td>\n",
       "    </tr>\n",
       "    <tr>\n",
       "      <th>2</th>\n",
       "      <td>00:47.1</td>\n",
       "      <td>36</td>\n",
       "      <td>Completed</td>\n",
       "      <td>17-12-2009 0.00</td>\n",
       "      <td>0.28269</td>\n",
       "      <td>0.2750</td>\n",
       "      <td>0.2400</td>\n",
       "      <td>NaN</td>\n",
       "      <td>NaN</td>\n",
       "      <td>0</td>\n",
       "      <td>...</td>\n",
       "      <td>Not available</td>\n",
       "      <td>NaN</td>\n",
       "      <td>2083.333333</td>\n",
       "      <td>0</td>\n",
       "      <td>3001</td>\n",
       "      <td>17-01-2007 0.00</td>\n",
       "      <td>Q1 2007</td>\n",
       "      <td>123.32</td>\n",
       "      <td>1185.63</td>\n",
       "      <td>41</td>\n",
       "    </tr>\n",
       "    <tr>\n",
       "      <th>3</th>\n",
       "      <td>02:35.0</td>\n",
       "      <td>36</td>\n",
       "      <td>Current</td>\n",
       "      <td>NaN</td>\n",
       "      <td>0.12528</td>\n",
       "      <td>0.0974</td>\n",
       "      <td>0.0874</td>\n",
       "      <td>A</td>\n",
       "      <td>9.0</td>\n",
       "      <td>16</td>\n",
       "      <td>...</td>\n",
       "      <td>Employed</td>\n",
       "      <td>10056.0</td>\n",
       "      <td>2875.000000</td>\n",
       "      <td>0</td>\n",
       "      <td>10000</td>\n",
       "      <td>01-11-2012 0.00</td>\n",
       "      <td>Q4 2012</td>\n",
       "      <td>321.45</td>\n",
       "      <td>1052.11</td>\n",
       "      <td>158</td>\n",
       "    </tr>\n",
       "    <tr>\n",
       "      <th>4</th>\n",
       "      <td>38:39.1</td>\n",
       "      <td>36</td>\n",
       "      <td>Current</td>\n",
       "      <td>NaN</td>\n",
       "      <td>0.24614</td>\n",
       "      <td>0.2085</td>\n",
       "      <td>0.1985</td>\n",
       "      <td>D</td>\n",
       "      <td>4.0</td>\n",
       "      <td>2</td>\n",
       "      <td>...</td>\n",
       "      <td>Employed</td>\n",
       "      <td>0.0</td>\n",
       "      <td>9583.333333</td>\n",
       "      <td>0</td>\n",
       "      <td>15000</td>\n",
       "      <td>20-09-2013 0.00</td>\n",
       "      <td>Q3 2013</td>\n",
       "      <td>563.97</td>\n",
       "      <td>1256.63</td>\n",
       "      <td>20</td>\n",
       "    </tr>\n",
       "  </tbody>\n",
       "</table>\n",
       "<p>5 rows × 22 columns</p>\n",
       "</div>"
      ],
      "text/plain": [
       "  ListingCreationDate  Term LoanStatus       ClosedDate  BorrowerAPR  \\\n",
       "0             09:29.3    36  Completed  14-08-2009 0.00      0.16516   \n",
       "1             28:07.9    36    Current              NaN      0.12016   \n",
       "2             00:47.1    36  Completed  17-12-2009 0.00      0.28269   \n",
       "3             02:35.0    36    Current              NaN      0.12528   \n",
       "4             38:39.1    36    Current              NaN      0.24614   \n",
       "\n",
       "   BorrowerRate  LenderYield ProsperRating (Alpha)  ProsperScore  \\\n",
       "0        0.1580       0.1380                   NaN           NaN   \n",
       "1        0.0920       0.0820                     A           7.0   \n",
       "2        0.2750       0.2400                   NaN           NaN   \n",
       "3        0.0974       0.0874                     A           9.0   \n",
       "4        0.2085       0.1985                     D           4.0   \n",
       "\n",
       "   ListingCategory (numeric)  ... EmploymentStatus AmountDelinquent  \\\n",
       "0                          0  ...    Self-employed            472.0   \n",
       "1                          2  ...         Employed              0.0   \n",
       "2                          0  ...    Not available              NaN   \n",
       "3                         16  ...         Employed          10056.0   \n",
       "4                          2  ...         Employed              0.0   \n",
       "\n",
       "  StatedMonthlyIncome  LoanCurrentDaysDelinquent  LoanOriginalAmount  \\\n",
       "0         3083.333333                          0                9425   \n",
       "1         6125.000000                          0               10000   \n",
       "2         2083.333333                          0                3001   \n",
       "3         2875.000000                          0               10000   \n",
       "4         9583.333333                          0               15000   \n",
       "\n",
       "   LoanOriginationDate  LoanOriginationQuarter MonthlyLoanPayment  \\\n",
       "0      12-09-2007 0.00                 Q3 2007             330.43   \n",
       "1      03-03-2014 0.00                 Q1 2014             318.93   \n",
       "2      17-01-2007 0.00                 Q1 2007             123.32   \n",
       "3      01-11-2012 0.00                 Q4 2012             321.45   \n",
       "4      20-09-2013 0.00                 Q3 2013             563.97   \n",
       "\n",
       "  LP_InterestandFees  Investors  \n",
       "0            1971.14        258  \n",
       "1               0.00          1  \n",
       "2            1185.63         41  \n",
       "3            1052.11        158  \n",
       "4            1256.63         20  \n",
       "\n",
       "[5 rows x 22 columns]"
      ]
     },
     "execution_count": 123,
     "metadata": {},
     "output_type": "execute_result"
    }
   ],
   "source": [
    "## A. Read the dataset called Pri-Load.csv\n",
    "\n",
    "df=pd.read_csv('C:\\\\Users\\\\mohit\\\\Downloads\\\\Preload data.csv')\n",
    "df.head()"
   ]
  },
  {
   "cell_type": "code",
   "execution_count": 81,
   "metadata": {},
   "outputs": [
    {
     "name": "stdout",
     "output_type": "stream",
     "text": [
      "Data type of each column of Dataframe :\n",
      "ListingCreationDate           object\n",
      "Term                           int64\n",
      "LoanStatus                    object\n",
      "ClosedDate                    object\n",
      "BorrowerAPR                  float64\n",
      "BorrowerRate                 float64\n",
      "LenderYield                  float64\n",
      "ProsperRating (Alpha)         object\n",
      "ProsperScore                 float64\n",
      "ListingCategory (numeric)      int64\n",
      "BorrowerState                 object\n",
      "Occupation                    object\n",
      "EmploymentStatus              object\n",
      "AmountDelinquent             float64\n",
      "StatedMonthlyIncome          float64\n",
      "LoanCurrentDaysDelinquent      int64\n",
      "LoanOriginalAmount             int64\n",
      "LoanOriginationDate           object\n",
      "LoanOriginationQuarter        object\n",
      "MonthlyLoanPayment           float64\n",
      "LP_InterestandFees           float64\n",
      "Investors                      int64\n",
      "dtype: object\n"
     ]
    }
   ],
   "source": [
    "## B. Check the data type and adjust datatype for all other categorical columns.\n",
    "\n",
    "DataType=df.dtypes\n",
    "print('Data type of each column of Dataframe :')\n",
    "print(DataType)"
   ]
  },
  {
   "cell_type": "code",
   "execution_count": 82,
   "metadata": {},
   "outputs": [
    {
     "name": "stdout",
     "output_type": "stream",
     "text": [
      "['ListingCreationDate', 'LoanStatus', 'ClosedDate', 'ProsperRating (Alpha)', 'BorrowerState', 'Occupation', 'EmploymentStatus', 'LoanOriginationDate', 'LoanOriginationQuarter']\n"
     ]
    }
   ],
   "source": [
    "filteredColumns = df.dtypes[df.dtypes == np.object]\n",
    "# list of columns whose data type is object i.e. string\n",
    "listOfColumnNames = list(filteredColumns.index)\n",
    "print(listOfColumnNames)\n"
   ]
  },
  {
   "cell_type": "code",
   "execution_count": 83,
   "metadata": {},
   "outputs": [
    {
     "data": {
      "text/html": [
       "<div>\n",
       "<style scoped>\n",
       "    .dataframe tbody tr th:only-of-type {\n",
       "        vertical-align: middle;\n",
       "    }\n",
       "\n",
       "    .dataframe tbody tr th {\n",
       "        vertical-align: top;\n",
       "    }\n",
       "\n",
       "    .dataframe thead th {\n",
       "        text-align: right;\n",
       "    }\n",
       "</style>\n",
       "<table border=\"1\" class=\"dataframe\">\n",
       "  <thead>\n",
       "    <tr style=\"text-align: right;\">\n",
       "      <th></th>\n",
       "      <th>ListingCreationDate</th>\n",
       "      <th>Term</th>\n",
       "      <th>LoanStatus</th>\n",
       "      <th>ClosedDate</th>\n",
       "      <th>BorrowerAPR</th>\n",
       "      <th>BorrowerRate</th>\n",
       "      <th>LenderYield</th>\n",
       "      <th>ProsperScore</th>\n",
       "      <th>ListingCategory (numeric)</th>\n",
       "      <th>BorrowerState</th>\n",
       "      <th>...</th>\n",
       "      <th>EmploymentStatus</th>\n",
       "      <th>AmountDelinquent</th>\n",
       "      <th>StatedMonthlyIncome</th>\n",
       "      <th>LoanCurrentDaysDelinquent</th>\n",
       "      <th>LoanOriginalAmount</th>\n",
       "      <th>LoanOriginationDate</th>\n",
       "      <th>LoanOriginationQuarter</th>\n",
       "      <th>MonthlyLoanPayment</th>\n",
       "      <th>LP_InterestandFees</th>\n",
       "      <th>Investors</th>\n",
       "    </tr>\n",
       "  </thead>\n",
       "  <tbody>\n",
       "    <tr>\n",
       "      <th>0</th>\n",
       "      <td>09:29.3</td>\n",
       "      <td>36</td>\n",
       "      <td>Completed</td>\n",
       "      <td>14-08-2009 0.00</td>\n",
       "      <td>0.16516</td>\n",
       "      <td>0.1580</td>\n",
       "      <td>0.1380</td>\n",
       "      <td>NaN</td>\n",
       "      <td>0</td>\n",
       "      <td>CO</td>\n",
       "      <td>...</td>\n",
       "      <td>Self-employed</td>\n",
       "      <td>472.0</td>\n",
       "      <td>3083.333333</td>\n",
       "      <td>0</td>\n",
       "      <td>9425</td>\n",
       "      <td>12-09-2007 0.00</td>\n",
       "      <td>Q3 2007</td>\n",
       "      <td>330.43</td>\n",
       "      <td>1971.14</td>\n",
       "      <td>258</td>\n",
       "    </tr>\n",
       "    <tr>\n",
       "      <th>1</th>\n",
       "      <td>28:07.9</td>\n",
       "      <td>36</td>\n",
       "      <td>Current</td>\n",
       "      <td>NaN</td>\n",
       "      <td>0.12016</td>\n",
       "      <td>0.0920</td>\n",
       "      <td>0.0820</td>\n",
       "      <td>7.0</td>\n",
       "      <td>2</td>\n",
       "      <td>CO</td>\n",
       "      <td>...</td>\n",
       "      <td>Employed</td>\n",
       "      <td>0.0</td>\n",
       "      <td>6125.000000</td>\n",
       "      <td>0</td>\n",
       "      <td>10000</td>\n",
       "      <td>03-03-2014 0.00</td>\n",
       "      <td>Q1 2014</td>\n",
       "      <td>318.93</td>\n",
       "      <td>0.00</td>\n",
       "      <td>1</td>\n",
       "    </tr>\n",
       "    <tr>\n",
       "      <th>2</th>\n",
       "      <td>00:47.1</td>\n",
       "      <td>36</td>\n",
       "      <td>Completed</td>\n",
       "      <td>17-12-2009 0.00</td>\n",
       "      <td>0.28269</td>\n",
       "      <td>0.2750</td>\n",
       "      <td>0.2400</td>\n",
       "      <td>NaN</td>\n",
       "      <td>0</td>\n",
       "      <td>GA</td>\n",
       "      <td>...</td>\n",
       "      <td>Not available</td>\n",
       "      <td>NaN</td>\n",
       "      <td>2083.333333</td>\n",
       "      <td>0</td>\n",
       "      <td>3001</td>\n",
       "      <td>17-01-2007 0.00</td>\n",
       "      <td>Q1 2007</td>\n",
       "      <td>123.32</td>\n",
       "      <td>1185.63</td>\n",
       "      <td>41</td>\n",
       "    </tr>\n",
       "    <tr>\n",
       "      <th>3</th>\n",
       "      <td>02:35.0</td>\n",
       "      <td>36</td>\n",
       "      <td>Current</td>\n",
       "      <td>NaN</td>\n",
       "      <td>0.12528</td>\n",
       "      <td>0.0974</td>\n",
       "      <td>0.0874</td>\n",
       "      <td>9.0</td>\n",
       "      <td>16</td>\n",
       "      <td>GA</td>\n",
       "      <td>...</td>\n",
       "      <td>Employed</td>\n",
       "      <td>10056.0</td>\n",
       "      <td>2875.000000</td>\n",
       "      <td>0</td>\n",
       "      <td>10000</td>\n",
       "      <td>01-11-2012 0.00</td>\n",
       "      <td>Q4 2012</td>\n",
       "      <td>321.45</td>\n",
       "      <td>1052.11</td>\n",
       "      <td>158</td>\n",
       "    </tr>\n",
       "    <tr>\n",
       "      <th>4</th>\n",
       "      <td>38:39.1</td>\n",
       "      <td>36</td>\n",
       "      <td>Current</td>\n",
       "      <td>NaN</td>\n",
       "      <td>0.24614</td>\n",
       "      <td>0.2085</td>\n",
       "      <td>0.1985</td>\n",
       "      <td>4.0</td>\n",
       "      <td>2</td>\n",
       "      <td>MN</td>\n",
       "      <td>...</td>\n",
       "      <td>Employed</td>\n",
       "      <td>0.0</td>\n",
       "      <td>9583.333333</td>\n",
       "      <td>0</td>\n",
       "      <td>15000</td>\n",
       "      <td>20-09-2013 0.00</td>\n",
       "      <td>Q3 2013</td>\n",
       "      <td>563.97</td>\n",
       "      <td>1256.63</td>\n",
       "      <td>20</td>\n",
       "    </tr>\n",
       "  </tbody>\n",
       "</table>\n",
       "<p>5 rows × 21 columns</p>\n",
       "</div>"
      ],
      "text/plain": [
       "  ListingCreationDate  Term LoanStatus       ClosedDate  BorrowerAPR  \\\n",
       "0             09:29.3    36  Completed  14-08-2009 0.00      0.16516   \n",
       "1             28:07.9    36    Current              NaN      0.12016   \n",
       "2             00:47.1    36  Completed  17-12-2009 0.00      0.28269   \n",
       "3             02:35.0    36    Current              NaN      0.12528   \n",
       "4             38:39.1    36    Current              NaN      0.24614   \n",
       "\n",
       "   BorrowerRate  LenderYield  ProsperScore  ListingCategory (numeric)  \\\n",
       "0        0.1580       0.1380           NaN                          0   \n",
       "1        0.0920       0.0820           7.0                          2   \n",
       "2        0.2750       0.2400           NaN                          0   \n",
       "3        0.0974       0.0874           9.0                         16   \n",
       "4        0.2085       0.1985           4.0                          2   \n",
       "\n",
       "  BorrowerState  ... EmploymentStatus AmountDelinquent  StatedMonthlyIncome  \\\n",
       "0            CO  ...    Self-employed            472.0          3083.333333   \n",
       "1            CO  ...         Employed              0.0          6125.000000   \n",
       "2            GA  ...    Not available              NaN          2083.333333   \n",
       "3            GA  ...         Employed          10056.0          2875.000000   \n",
       "4            MN  ...         Employed              0.0          9583.333333   \n",
       "\n",
       "   LoanCurrentDaysDelinquent  LoanOriginalAmount  LoanOriginationDate  \\\n",
       "0                          0                9425      12-09-2007 0.00   \n",
       "1                          0               10000      03-03-2014 0.00   \n",
       "2                          0                3001      17-01-2007 0.00   \n",
       "3                          0               10000      01-11-2012 0.00   \n",
       "4                          0               15000      20-09-2013 0.00   \n",
       "\n",
       "  LoanOriginationQuarter MonthlyLoanPayment  LP_InterestandFees  Investors  \n",
       "0                Q3 2007             330.43             1971.14        258  \n",
       "1                Q1 2014             318.93                0.00          1  \n",
       "2                Q1 2007             123.32             1185.63         41  \n",
       "3                Q4 2012             321.45             1052.11        158  \n",
       "4                Q3 2013             563.97             1256.63         20  \n",
       "\n",
       "[5 rows x 21 columns]"
      ]
     },
     "execution_count": 83,
     "metadata": {},
     "output_type": "execute_result"
    }
   ],
   "source": [
    "## C. If you find any of the missing values in the ProsperRating column, then drop it.\n",
    "\n",
    "df.isnull().sum()/len(df)*100\n",
    "## Yes there are 24%missing values in the prosperrating column so i drop the column\n",
    "\n",
    "df_updated=df.drop(['ProsperRating (Alpha)'],axis=1)\n",
    "df_updated.head()\n"
   ]
  },
  {
   "cell_type": "code",
   "execution_count": 84,
   "metadata": {},
   "outputs": [
    {
     "data": {
      "text/plain": [
       "Current                  544\n",
       "Completed                332\n",
       "Chargedoff                95\n",
       "Defaulted                 51\n",
       "Past Due (1-15 days)       5\n",
       "Past Due (61-90 days)      4\n",
       "Past Due (16-30 days)      2\n",
       "Past Due (31-60 days)      1\n",
       "Cancelled                  1\n",
       "Name: LoanStatus, dtype: int64"
      ]
     },
     "execution_count": 84,
     "metadata": {},
     "output_type": "execute_result"
    }
   ],
   "source": [
    "## A. What are the main features of interest in your dataset?\n",
    "## step1:\n",
    "\n",
    "df['LoanStatus'].value_counts()"
   ]
  },
  {
   "cell_type": "code",
   "execution_count": 85,
   "metadata": {},
   "outputs": [
    {
     "data": {
      "image/png": "[encoded data removed]",
      "text/plain": [
       "<Figure size 1080x576 with 1 Axes>"
      ]
     },
     "metadata": {
      "needs_background": "light"
     },
     "output_type": "display_data"
    }
   ],
   "source": [
    "plt.figure(figsize = (15,8))\n",
    "df['LoanStatus'].value_counts().plot(kind='bar')\n",
    "plt.show()\n",
    "\n",
    "##There are 500 above accounts status are showing current status which is very high.\n",
    "## And there is only 1 accounts for both past due and cancelled status which is very low"
   ]
  },
  {
   "cell_type": "code",
   "execution_count": 86,
   "metadata": {},
   "outputs": [
    {
     "data": {
      "text/plain": [
       "Employed         623\n",
       "Full-time        216\n",
       "Not available     56\n",
       "Self-employed     50\n",
       "Other             36\n",
       "Part-time         11\n",
       "Not employed      10\n",
       "Retired            8\n",
       "Name: EmploymentStatus, dtype: int64"
      ]
     },
     "execution_count": 86,
     "metadata": {},
     "output_type": "execute_result"
    }
   ],
   "source": [
    "df['EmploymentStatus'].value_counts()"
   ]
  },
  {
   "cell_type": "code",
   "execution_count": 87,
   "metadata": {},
   "outputs": [
    {
     "data": {
      "image/png": "[encoded data removed]",
      "text/plain": [
       "<Figure size 720x288 with 1 Axes>"
      ]
     },
     "metadata": {
      "needs_background": "light"
     },
     "output_type": "display_data"
    }
   ],
   "source": [
    "plt.figure(figsize=(10,4))\n",
    "df['EmploymentStatus'].value_counts().plot(kind='bar')\n",
    "plt.show()\n",
    "\n",
    "## There are so many peoples are employed which is 623\n",
    "## The retired employees are very low"
   ]
  },
  {
   "cell_type": "code",
   "execution_count": 88,
   "metadata": {},
   "outputs": [
    {
     "data": {
      "image/png": "[encoded data removed]",
      "text/plain": [
       "<Figure size 864x288 with 1 Axes>"
      ]
     },
     "metadata": {
      "needs_background": "light"
     },
     "output_type": "display_data"
    }
   ],
   "source": [
    "plt.figure(figsize=(12,4))\n",
    "sns.distplot(df['StatedMonthlyIncome'])\n",
    "plt.show()\n",
    "\n",
    "## Yes there is a right skew for the StatedMonthlyIncome."
   ]
  },
  {
   "cell_type": "code",
   "execution_count": 89,
   "metadata": {},
   "outputs": [
    {
     "data": {
      "text/plain": [
       "5619.000080492749"
      ]
     },
     "execution_count": 89,
     "metadata": {},
     "output_type": "execute_result"
    }
   ],
   "source": [
    "df['StatedMonthlyIncome'].mean()"
   ]
  },
  {
   "cell_type": "code",
   "execution_count": 90,
   "metadata": {},
   "outputs": [
    {
     "data": {
      "text/plain": [
       "4734.333333"
      ]
     },
     "execution_count": 90,
     "metadata": {},
     "output_type": "execute_result"
    }
   ],
   "source": [
    "df['StatedMonthlyIncome'].median()"
   ]
  },
  {
   "cell_type": "code",
   "execution_count": 91,
   "metadata": {},
   "outputs": [],
   "source": [
    "# In this mean > median so it is right skewed"
   ]
  },
  {
   "cell_type": "code",
   "execution_count": 92,
   "metadata": {},
   "outputs": [
    {
     "data": {
      "text/html": [
       "<div>\n",
       "<style scoped>\n",
       "    .dataframe tbody tr th:only-of-type {\n",
       "        vertical-align: middle;\n",
       "    }\n",
       "\n",
       "    .dataframe tbody tr th {\n",
       "        vertical-align: top;\n",
       "    }\n",
       "\n",
       "    .dataframe thead th {\n",
       "        text-align: right;\n",
       "    }\n",
       "</style>\n",
       "<table border=\"1\" class=\"dataframe\">\n",
       "  <thead>\n",
       "    <tr style=\"text-align: right;\">\n",
       "      <th></th>\n",
       "      <th>Term</th>\n",
       "      <th>BorrowerAPR</th>\n",
       "      <th>BorrowerRate</th>\n",
       "      <th>LenderYield</th>\n",
       "      <th>ProsperScore</th>\n",
       "      <th>ListingCategory (numeric)</th>\n",
       "      <th>AmountDelinquent</th>\n",
       "      <th>StatedMonthlyIncome</th>\n",
       "      <th>LoanCurrentDaysDelinquent</th>\n",
       "      <th>LoanOriginalAmount</th>\n",
       "      <th>MonthlyLoanPayment</th>\n",
       "      <th>LP_InterestandFees</th>\n",
       "      <th>Investors</th>\n",
       "    </tr>\n",
       "  </thead>\n",
       "  <tbody>\n",
       "    <tr>\n",
       "      <th>Term</th>\n",
       "      <td>1.000000</td>\n",
       "      <td>-0.044058</td>\n",
       "      <td>-0.014094</td>\n",
       "      <td>-0.013188</td>\n",
       "      <td>0.090518</td>\n",
       "      <td>-0.036781</td>\n",
       "      <td>-0.058617</td>\n",
       "      <td>0.105244</td>\n",
       "      <td>-0.126056</td>\n",
       "      <td>0.355824</td>\n",
       "      <td>0.104524</td>\n",
       "      <td>0.108435</td>\n",
       "      <td>-0.074994</td>\n",
       "    </tr>\n",
       "    <tr>\n",
       "      <th>BorrowerAPR</th>\n",
       "      <td>-0.044058</td>\n",
       "      <td>1.000000</td>\n",
       "      <td>0.989962</td>\n",
       "      <td>0.989498</td>\n",
       "      <td>-0.640320</td>\n",
       "      <td>0.173637</td>\n",
       "      <td>0.029008</td>\n",
       "      <td>-0.199210</td>\n",
       "      <td>0.108360</td>\n",
       "      <td>-0.305032</td>\n",
       "      <td>-0.202339</td>\n",
       "      <td>0.176953</td>\n",
       "      <td>-0.282639</td>\n",
       "    </tr>\n",
       "    <tr>\n",
       "      <th>BorrowerRate</th>\n",
       "      <td>-0.014094</td>\n",
       "      <td>0.989962</td>\n",
       "      <td>1.000000</td>\n",
       "      <td>0.998986</td>\n",
       "      <td>-0.619934</td>\n",
       "      <td>0.139176</td>\n",
       "      <td>0.019442</td>\n",
       "      <td>-0.214624</td>\n",
       "      <td>0.155858</td>\n",
       "      <td>-0.312473</td>\n",
       "      <td>-0.220645</td>\n",
       "      <td>0.210123</td>\n",
       "      <td>-0.251938</td>\n",
       "    </tr>\n",
       "    <tr>\n",
       "      <th>LenderYield</th>\n",
       "      <td>-0.013188</td>\n",
       "      <td>0.989498</td>\n",
       "      <td>0.998986</td>\n",
       "      <td>1.000000</td>\n",
       "      <td>-0.619934</td>\n",
       "      <td>0.141883</td>\n",
       "      <td>0.019392</td>\n",
       "      <td>-0.211835</td>\n",
       "      <td>0.152973</td>\n",
       "      <td>-0.311028</td>\n",
       "      <td>-0.219325</td>\n",
       "      <td>0.210511</td>\n",
       "      <td>-0.251405</td>\n",
       "    </tr>\n",
       "    <tr>\n",
       "      <th>ProsperScore</th>\n",
       "      <td>0.090518</td>\n",
       "      <td>-0.640320</td>\n",
       "      <td>-0.619934</td>\n",
       "      <td>-0.619934</td>\n",
       "      <td>1.000000</td>\n",
       "      <td>-0.041906</td>\n",
       "      <td>-0.062707</td>\n",
       "      <td>0.199536</td>\n",
       "      <td>-0.072170</td>\n",
       "      <td>0.245904</td>\n",
       "      <td>0.144268</td>\n",
       "      <td>0.016248</td>\n",
       "      <td>0.311131</td>\n",
       "    </tr>\n",
       "    <tr>\n",
       "      <th>ListingCategory (numeric)</th>\n",
       "      <td>-0.036781</td>\n",
       "      <td>0.173637</td>\n",
       "      <td>0.139176</td>\n",
       "      <td>0.141883</td>\n",
       "      <td>-0.041906</td>\n",
       "      <td>1.000000</td>\n",
       "      <td>0.082391</td>\n",
       "      <td>-0.028607</td>\n",
       "      <td>-0.100537</td>\n",
       "      <td>-0.149829</td>\n",
       "      <td>-0.132172</td>\n",
       "      <td>-0.011305</td>\n",
       "      <td>-0.067928</td>\n",
       "    </tr>\n",
       "    <tr>\n",
       "      <th>AmountDelinquent</th>\n",
       "      <td>-0.058617</td>\n",
       "      <td>0.029008</td>\n",
       "      <td>0.019442</td>\n",
       "      <td>0.019392</td>\n",
       "      <td>-0.062707</td>\n",
       "      <td>0.082391</td>\n",
       "      <td>1.000000</td>\n",
       "      <td>-0.013594</td>\n",
       "      <td>0.010723</td>\n",
       "      <td>-0.068893</td>\n",
       "      <td>-0.059737</td>\n",
       "      <td>-0.059239</td>\n",
       "      <td>-0.055755</td>\n",
       "    </tr>\n",
       "    <tr>\n",
       "      <th>StatedMonthlyIncome</th>\n",
       "      <td>0.105244</td>\n",
       "      <td>-0.199210</td>\n",
       "      <td>-0.214624</td>\n",
       "      <td>-0.211835</td>\n",
       "      <td>0.199536</td>\n",
       "      <td>-0.028607</td>\n",
       "      <td>-0.013594</td>\n",
       "      <td>1.000000</td>\n",
       "      <td>-0.057888</td>\n",
       "      <td>0.432787</td>\n",
       "      <td>0.405985</td>\n",
       "      <td>0.119956</td>\n",
       "      <td>0.113668</td>\n",
       "    </tr>\n",
       "    <tr>\n",
       "      <th>LoanCurrentDaysDelinquent</th>\n",
       "      <td>-0.126056</td>\n",
       "      <td>0.108360</td>\n",
       "      <td>0.155858</td>\n",
       "      <td>0.152973</td>\n",
       "      <td>-0.072170</td>\n",
       "      <td>-0.100537</td>\n",
       "      <td>0.010723</td>\n",
       "      <td>-0.057888</td>\n",
       "      <td>1.000000</td>\n",
       "      <td>-0.065866</td>\n",
       "      <td>-0.020760</td>\n",
       "      <td>0.080106</td>\n",
       "      <td>0.092322</td>\n",
       "    </tr>\n",
       "    <tr>\n",
       "      <th>LoanOriginalAmount</th>\n",
       "      <td>0.355824</td>\n",
       "      <td>-0.305032</td>\n",
       "      <td>-0.312473</td>\n",
       "      <td>-0.311028</td>\n",
       "      <td>0.245904</td>\n",
       "      <td>-0.149829</td>\n",
       "      <td>-0.068893</td>\n",
       "      <td>0.432787</td>\n",
       "      <td>-0.065866</td>\n",
       "      <td>1.000000</td>\n",
       "      <td>0.938081</td>\n",
       "      <td>0.376891</td>\n",
       "      <td>0.367847</td>\n",
       "    </tr>\n",
       "    <tr>\n",
       "      <th>MonthlyLoanPayment</th>\n",
       "      <td>0.104524</td>\n",
       "      <td>-0.202339</td>\n",
       "      <td>-0.220645</td>\n",
       "      <td>-0.219325</td>\n",
       "      <td>0.144268</td>\n",
       "      <td>-0.132172</td>\n",
       "      <td>-0.059737</td>\n",
       "      <td>0.405985</td>\n",
       "      <td>-0.020760</td>\n",
       "      <td>0.938081</td>\n",
       "      <td>1.000000</td>\n",
       "      <td>0.424808</td>\n",
       "      <td>0.378563</td>\n",
       "    </tr>\n",
       "    <tr>\n",
       "      <th>LP_InterestandFees</th>\n",
       "      <td>0.108435</td>\n",
       "      <td>0.176953</td>\n",
       "      <td>0.210123</td>\n",
       "      <td>0.210511</td>\n",
       "      <td>0.016248</td>\n",
       "      <td>-0.011305</td>\n",
       "      <td>-0.059239</td>\n",
       "      <td>0.119956</td>\n",
       "      <td>0.080106</td>\n",
       "      <td>0.376891</td>\n",
       "      <td>0.424808</td>\n",
       "      <td>1.000000</td>\n",
       "      <td>0.421257</td>\n",
       "    </tr>\n",
       "    <tr>\n",
       "      <th>Investors</th>\n",
       "      <td>-0.074994</td>\n",
       "      <td>-0.282639</td>\n",
       "      <td>-0.251938</td>\n",
       "      <td>-0.251405</td>\n",
       "      <td>0.311131</td>\n",
       "      <td>-0.067928</td>\n",
       "      <td>-0.055755</td>\n",
       "      <td>0.113668</td>\n",
       "      <td>0.092322</td>\n",
       "      <td>0.367847</td>\n",
       "      <td>0.378563</td>\n",
       "      <td>0.421257</td>\n",
       "      <td>1.000000</td>\n",
       "    </tr>\n",
       "  </tbody>\n",
       "</table>\n",
       "</div>"
      ],
      "text/plain": [
       "                               Term  BorrowerAPR  BorrowerRate  LenderYield  \\\n",
       "Term                       1.000000    -0.044058     -0.014094    -0.013188   \n",
       "BorrowerAPR               -0.044058     1.000000      0.989962     0.989498   \n",
       "BorrowerRate              -0.014094     0.989962      1.000000     0.998986   \n",
       "LenderYield               -0.013188     0.989498      0.998986     1.000000   \n",
       "ProsperScore               0.090518    -0.640320     -0.619934    -0.619934   \n",
       "ListingCategory (numeric) -0.036781     0.173637      0.139176     0.141883   \n",
       "AmountDelinquent          -0.058617     0.029008      0.019442     0.019392   \n",
       "StatedMonthlyIncome        0.105244    -0.199210     -0.214624    -0.211835   \n",
       "LoanCurrentDaysDelinquent -0.126056     0.108360      0.155858     0.152973   \n",
       "LoanOriginalAmount         0.355824    -0.305032     -0.312473    -0.311028   \n",
       "MonthlyLoanPayment         0.104524    -0.202339     -0.220645    -0.219325   \n",
       "LP_InterestandFees         0.108435     0.176953      0.210123     0.210511   \n",
       "Investors                 -0.074994    -0.282639     -0.251938    -0.251405   \n",
       "\n",
       "                           ProsperScore  ListingCategory (numeric)  \\\n",
       "Term                           0.090518                  -0.036781   \n",
       "BorrowerAPR                   -0.640320                   0.173637   \n",
       "BorrowerRate                  -0.619934                   0.139176   \n",
       "LenderYield                   -0.619934                   0.141883   \n",
       "ProsperScore                   1.000000                  -0.041906   \n",
       "ListingCategory (numeric)     -0.041906                   1.000000   \n",
       "AmountDelinquent              -0.062707                   0.082391   \n",
       "StatedMonthlyIncome            0.199536                  -0.028607   \n",
       "LoanCurrentDaysDelinquent     -0.072170                  -0.100537   \n",
       "LoanOriginalAmount             0.245904                  -0.149829   \n",
       "MonthlyLoanPayment             0.144268                  -0.132172   \n",
       "LP_InterestandFees             0.016248                  -0.011305   \n",
       "Investors                      0.311131                  -0.067928   \n",
       "\n",
       "                           AmountDelinquent  StatedMonthlyIncome  \\\n",
       "Term                              -0.058617             0.105244   \n",
       "BorrowerAPR                        0.029008            -0.199210   \n",
       "BorrowerRate                       0.019442            -0.214624   \n",
       "LenderYield                        0.019392            -0.211835   \n",
       "ProsperScore                      -0.062707             0.199536   \n",
       "ListingCategory (numeric)          0.082391            -0.028607   \n",
       "AmountDelinquent                   1.000000            -0.013594   \n",
       "StatedMonthlyIncome               -0.013594             1.000000   \n",
       "LoanCurrentDaysDelinquent          0.010723            -0.057888   \n",
       "LoanOriginalAmount                -0.068893             0.432787   \n",
       "MonthlyLoanPayment                -0.059737             0.405985   \n",
       "LP_InterestandFees                -0.059239             0.119956   \n",
       "Investors                         -0.055755             0.113668   \n",
       "\n",
       "                           LoanCurrentDaysDelinquent  LoanOriginalAmount  \\\n",
       "Term                                       -0.126056            0.355824   \n",
       "BorrowerAPR                                 0.108360           -0.305032   \n",
       "BorrowerRate                                0.155858           -0.312473   \n",
       "LenderYield                                 0.152973           -0.311028   \n",
       "ProsperScore                               -0.072170            0.245904   \n",
       "ListingCategory (numeric)                  -0.100537           -0.149829   \n",
       "AmountDelinquent                            0.010723           -0.068893   \n",
       "StatedMonthlyIncome                        -0.057888            0.432787   \n",
       "LoanCurrentDaysDelinquent                   1.000000           -0.065866   \n",
       "LoanOriginalAmount                         -0.065866            1.000000   \n",
       "MonthlyLoanPayment                         -0.020760            0.938081   \n",
       "LP_InterestandFees                          0.080106            0.376891   \n",
       "Investors                                   0.092322            0.367847   \n",
       "\n",
       "                           MonthlyLoanPayment  LP_InterestandFees  Investors  \n",
       "Term                                 0.104524            0.108435  -0.074994  \n",
       "BorrowerAPR                         -0.202339            0.176953  -0.282639  \n",
       "BorrowerRate                        -0.220645            0.210123  -0.251938  \n",
       "LenderYield                         -0.219325            0.210511  -0.251405  \n",
       "ProsperScore                         0.144268            0.016248   0.311131  \n",
       "ListingCategory (numeric)           -0.132172           -0.011305  -0.067928  \n",
       "AmountDelinquent                    -0.059737           -0.059239  -0.055755  \n",
       "StatedMonthlyIncome                  0.405985            0.119956   0.113668  \n",
       "LoanCurrentDaysDelinquent           -0.020760            0.080106   0.092322  \n",
       "LoanOriginalAmount                   0.938081            0.376891   0.367847  \n",
       "MonthlyLoanPayment                   1.000000            0.424808   0.378563  \n",
       "LP_InterestandFees                   0.424808            1.000000   0.421257  \n",
       "Investors                            0.378563            0.421257   1.000000  "
      ]
     },
     "execution_count": 92,
     "metadata": {},
     "output_type": "execute_result"
    }
   ],
   "source": [
    "## A.Check the correlation matrix for all numeric variables. Maintain the Strong positive and Negative correlations columns.\n",
    "\n",
    "df.corr()"
   ]
  },
  {
   "cell_type": "code",
   "execution_count": 93,
   "metadata": {},
   "outputs": [
    {
     "data": {
      "image/png": "[encoded data removed]",
      "text/plain": [
       "<Figure size 1080x576 with 1 Axes>"
      ]
     },
     "metadata": {
      "needs_background": "light"
     },
     "output_type": "display_data"
    }
   ],
   "source": [
    "## B. Check the relation between LoanOriginalAmount and BorrowerAPR columns.\n",
    "## Plot1: Scatter Plot of LoanOriginalAmount and BorrowerAPR columns   \n",
    "\n",
    "df.plot.scatter(x = \"LoanOriginalAmount\", y = \"BorrowerAPR\", figsize = (15,8))\n",
    "\n",
    "#axis label\n",
    "\n",
    "plt.xlabel(\"LoanOriginalAmount\", fontsize = 15)\n",
    "plt.title(\"Relation between LoanOriginalAmount and BorrowerAPR\", fontsize = 15)\n",
    "plt.ylabel(\"BorrowerAPR\", fontsize = 15)\n",
    "#display the plot\n",
    "plt.show()\n",
    "\n",
    "## Observations:"
   ]
  },
  {
   "cell_type": "code",
   "execution_count": 94,
   "metadata": {},
   "outputs": [
    {
     "data": {
      "image/png": "[encoded data removed]",
      "text/plain": [
       "<Figure size 432x288 with 2 Axes>"
      ]
     },
     "metadata": {
      "needs_background": "light"
     },
     "output_type": "display_data"
    }
   ],
   "source": [
    "## B. Check the relation between LoanOriginalAmount and BorrowerAPR columns.\n",
    "## Plot2: Heatmap of LoanOriginalAmount and BorrowerAPR columns   \n",
    "\n",
    "df_small = df.iloc[:,[16,4]]\n",
    "\n",
    "# df_small is taken for getting all rows and specified columns\n",
    "\n",
    "correlation = df_small.corr()\n",
    "\n",
    "sns.heatmap(correlation, annot = True)\n",
    "plt.show()"
   ]
  },
  {
   "cell_type": "code",
   "execution_count": 141,
   "metadata": {},
   "outputs": [
    {
     "data": {
      "image/png": "[encoded data removed]",
      "text/plain": [
       "<Figure size 1080x576 with 1 Axes>"
      ]
     },
     "metadata": {
      "needs_background": "light"
     },
     "output_type": "display_data"
    }
   ],
   "source": [
    "## C.Display the seperate box plot for y = BorrowerAPR with x1 = LoanStatus, x2 = EmploymentStatus columns.Write your observations.\n",
    "\n",
    "plt.figure(figsize = (15,8))\n",
    "sns.boxplot(x='LoanStatus',y='BorrowerAPR', data=df)\n",
    "plt.xlabel('LoanStatus', fontsize = 15)\n",
    "plt.ylabel('BorrowerAPR', fontsize = 15)\n",
    "plt.title('LoanStatus vs BorrowerAPR', fontsize = 20)\n",
    "plt.show()\n",
    "\n",
    "## OBSERVATIONS: "
   ]
  },
  {
   "cell_type": "code",
   "execution_count": 96,
   "metadata": {},
   "outputs": [
    {
     "data": {
      "image/png": "[encoded data removed]",
      "text/plain": [
       "<Figure size 1080x576 with 1 Axes>"
      ]
     },
     "metadata": {
      "needs_background": "light"
     },
     "output_type": "display_data"
    }
   ],
   "source": [
    "plt.figure(figsize = (15,8))\n",
    "sns.boxplot(x='EmploymentStatus',y='BorrowerAPR', data=df)\n",
    "plt.xlabel('EmploymentStatus', fontsize = 15)\n",
    "plt.ylabel('BorrowerAPR', fontsize = 15)\n",
    "plt.title('EmploymentStatus vs BorrowerAPR', fontsize = 20)\n",
    "plt.show()\n",
    "\n",
    "## OBSERVATIONS: "
   ]
  },
  {
   "cell_type": "code",
   "execution_count": 135,
   "metadata": {},
   "outputs": [
    {
     "data": {
      "text/plain": [
       "Completed    332\n",
       "Defaulted    146\n",
       "Name: Loan Status, dtype: int64"
      ]
     },
     "execution_count": 135,
     "metadata": {},
     "output_type": "execute_result"
    }
   ],
   "source": [
    "## Step 1: Create a  condition = 'LoanStatus'== 'Completed'| 'LoanStatus' == 'Defaulted' |\\'LoanStatus' == 'Chargedoff'\n",
    "\n",
    "## Step2: Create a user define function  using condition and `LoanStatus` column.\n",
    "\n",
    "def status(df1):\n",
    "    if (df1 == 'Completed'):\n",
    "        return 'Completed'\n",
    "    elif (df1 == 'Defaulted' or df1 == 'Chargedoff'):\n",
    "        return 'Defaulted'\n",
    "    \n",
    "df['Loan Status'] = df['LoanStatus'].apply(status)\n",
    "df['Loan Status'].value_counts()"
   ]
  },
  {
   "cell_type": "code",
   "execution_count": 138,
   "metadata": {},
   "outputs": [],
   "source": [
    "## Step 1: Create a  dictionary called categories = 1: 'Debt Consolidation', 2: 'Home Improvement', 3: 'Business', 6: 'Auto', 7: 'Other'\n",
    "\n",
    "## Step2: Create a user define function  using categories and `ListingCategory (numeric)` column.\n",
    "\n"
   ]
  },
  {
   "cell_type": "code",
   "execution_count": 59,
   "metadata": {},
   "outputs": [
    {
     "data": {
      "image/png": "[encoded data removed]",
      "text/plain": [
       "<Figure size 1080x576 with 1 Axes>"
      ]
     },
     "metadata": {
      "needs_background": "light"
     },
     "output_type": "display_data"
    }
   ],
   "source": [
    "## C. Display the box plot for ProsperRating (Alpha) vs LoanOriginalAmount and hue = Loan Status[Completed,Defaulted]. \n",
    "# Write your observations\n",
    "\n",
    "plt.figure(figsize = (15,8))\n",
    "sns.boxplot(x='ProsperRating (Alpha)',y='LoanOriginalAmount',hue = \"LoanStatus\", data=df)\n",
    "plt.xlabel('ProsperRating (Alpha)', fontsize = 15)\n",
    "plt.ylabel('LoanOriginalAmount', fontsize = 15)\n",
    "plt.title('Status wise ProsperRating (Alpha) vs LoanOriginalAmount', fontsize = 20)\n",
    "plt.show()\n",
    "\n",
    "## OBSERVATIONS: "
   ]
  },
  {
   "cell_type": "code",
   "execution_count": 64,
   "metadata": {},
   "outputs": [
    {
     "data": {
      "text/plain": [
       "<Figure size 1080x576 with 0 Axes>"
      ]
     },
     "metadata": {},
     "output_type": "display_data"
    },
    {
     "data": {
      "image/png": "[encoded data removed]",
      "text/plain": [
       "<Figure size 506.875x360 with 1 Axes>"
      ]
     },
     "metadata": {
      "needs_background": "light"
     },
     "output_type": "display_data"
    }
   ],
   "source": [
    "## D. Display the catplot for ProsperRating (Alpha) vs ListingCategory (numeric)[Debt Consolidation,Other,Business,Home Improvement,Auto]\n",
    "# and hue = Loan Status[Completed,Defaulted]. Write your observations.\n",
    "plt.figure(figsize = (15,8))\n",
    "sns.catplot(x='ProsperRating (Alpha)',y='ListingCategory (numeric)',hue = \"LoanStatus\", data=df)\n",
    "plt.xlabel('ProsperRating (Alpha)', fontsize = 15)\n",
    "plt.ylabel('ListingCategory (numeric)', fontsize = 15)\n",
    "plt.title('Status wise ProsperRating (Alpha) vs ListingCategory (numeric)', fontsize = 20)\n",
    "plt.show()\n",
    "\n",
    "## OBSERVATIONS: "
   ]
  },
  {
   "cell_type": "code",
   "execution_count": null,
   "metadata": {},
   "outputs": [],
   "source": []
  }
 ],
 "metadata": {
  "kernelspec": {
   "display_name": "Python 3 (ipykernel)",
   "language": "python",
   "name": "python3"
  },
  "language_info": {
   "codemirror_mode": {
    "name": "ipython",
    "version": 3
   },
   "file_extension": ".py",
   "mimetype": "text/x-python",
   "name": "python",
   "nbconvert_exporter": "python",
   "pygments_lexer": "ipython3",
   "version": "3.9.12"
  }
 },
 "nbformat": 4,
 "nbformat_minor": 4
}
